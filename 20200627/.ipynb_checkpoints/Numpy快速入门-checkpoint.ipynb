{
 "cells": [
  {
   "cell_type": "markdown",
   "metadata": {
    "colab_type": "text",
    "id": "view-in-github"
   },
   "source": [
    "<a href=\"https://colab.research.google.com/github/liupengzhouyi/LearningColaboratory/blob/master/20200627/Numpy%E5%BF%AB%E9%80%9F%E5%85%A5%E9%97%A8.ipynb\" target=\"_parent\"><img src=\"https://colab.research.google.com/assets/colab-badge.svg\" alt=\"Open In Colab\"/></a>"
   ]
  },
  {
   "cell_type": "markdown",
   "metadata": {
    "colab_type": "text",
    "id": "CBIQ7N6Doyuo"
   },
   "source": [
    "# Numpy 快速入门"
   ]
  },
  {
   "cell_type": "markdown",
   "metadata": {
    "colab_type": "text",
    "id": "psHyYItgBrn2"
   },
   "source": [
    "## create Numpy Object"
   ]
  },
  {
   "cell_type": "code",
   "execution_count": 1,
   "metadata": {
    "colab": {
     "base_uri": "https://localhost:8080/",
     "height": 34
    },
    "colab_type": "code",
    "id": "OvtSCI_5orPg",
    "outputId": "7567fd3e-7994-40ae-8abe-ed16fb9b348f"
   },
   "outputs": [
    {
     "name": "stdout",
     "output_type": "stream",
     "text": [
      "[ 1  2  3  4  5  6  7  8  9 10 11 12 13 14 15 16 17 18 19 20]\n"
     ]
    }
   ],
   "source": [
    "import numpy as np\n",
    "object0 = np.arange(1, 21)\n",
    "print(object0)"
   ]
  },
  {
   "cell_type": "markdown",
   "metadata": {
    "colab_type": "text",
    "id": "VuyhcSvqDS--"
   },
   "source": [
    "## create Numpy By function array()"
   ]
  },
  {
   "cell_type": "code",
   "execution_count": 2,
   "metadata": {
    "colab": {
     "base_uri": "https://localhost:8080/",
     "height": 51
    },
    "colab_type": "code",
    "id": "mBxKsN_RDZJD",
    "outputId": "7128e0db-19b9-4408-d35e-7f1330293c9b"
   },
   "outputs": [
    {
     "name": "stdout",
     "output_type": "stream",
     "text": [
      "[1 2 3]\n",
      "[2.2 3.  4. ]\n"
     ]
    }
   ],
   "source": [
    "# list\n",
    "object1 = np.array([1,2,3])\n",
    "print(object1)\n",
    "# tuple\n",
    "object2 = np.array((2.2,3,4))\n",
    "print(object2)"
   ]
  },
  {
   "cell_type": "markdown",
   "metadata": {
    "colab_type": "text",
    "id": "MVWrAcKgEhFg"
   },
   "source": [
    "## Setting Numpy Object Data Type When You Create Numpy Object"
   ]
  },
  {
   "cell_type": "code",
   "execution_count": 3,
   "metadata": {
    "colab": {
     "base_uri": "https://localhost:8080/",
     "height": 51
    },
    "colab_type": "code",
    "id": "IYntw2ZtEqMj",
    "outputId": "4e35d33e-d8ed-4be4-908f-05db73cab2df"
   },
   "outputs": [
    {
     "name": "stdout",
     "output_type": "stream",
     "text": [
      "<class 'numpy.ndarray'>\n",
      "float32\n"
     ]
    }
   ],
   "source": [
    "object3 = np.array([123,456], dtype=np.float32)\n",
    "print(type(object3))\n",
    "print(object3.dtype)"
   ]
  },
  {
   "cell_type": "markdown",
   "metadata": {
    "colab_type": "text",
    "id": "NBVlJnnSICcT"
   },
   "source": [
    "## Create Zeros Numpy Object\n"
   ]
  },
  {
   "cell_type": "code",
   "execution_count": 4,
   "metadata": {
    "colab": {
     "base_uri": "https://localhost:8080/",
     "height": 102
    },
    "colab_type": "code",
    "id": "rEaqmD7fIFr3",
    "outputId": "4df14481-5c69-45f8-fe7c-64f068727fa1"
   },
   "outputs": [
    {
     "name": "stdout",
     "output_type": "stream",
     "text": [
      "[[0. 0. 0. 0. 0. 0. 0.]\n",
      " [0. 0. 0. 0. 0. 0. 0.]\n",
      " [0. 0. 0. 0. 0. 0. 0.]\n",
      " [0. 0. 0. 0. 0. 0. 0.]\n",
      " [0. 0. 0. 0. 0. 0. 0.]]\n"
     ]
    }
   ],
   "source": [
    "object4 = np.zeros((5, 7))\n",
    "print(object4)"
   ]
  },
  {
   "cell_type": "markdown",
   "metadata": {
    "colab_type": "text",
    "id": "XHPCtahnIUMZ"
   },
   "source": [
    "## create Ones Numpy Object"
   ]
  },
  {
   "cell_type": "code",
   "execution_count": 5,
   "metadata": {
    "colab": {
     "base_uri": "https://localhost:8080/",
     "height": 68
    },
    "colab_type": "code",
    "id": "ZEHjv3sDIX23",
    "outputId": "b80727e2-3875-4267-b91e-431ffe16d7f6"
   },
   "outputs": [
    {
     "name": "stdout",
     "output_type": "stream",
     "text": [
      "[[1. 1. 1. 1.]\n",
      " [1. 1. 1. 1.]\n",
      " [1. 1. 1. 1.]]\n"
     ]
    }
   ],
   "source": [
    "object5 = np.ones((3, 4))\n",
    "print(object5)"
   ]
  },
  {
   "cell_type": "markdown",
   "metadata": {
    "colab_type": "text",
    "id": "KVkQXLpbIlxJ"
   },
   "source": [
    "## Create Range Numpy Object"
   ]
  },
  {
   "cell_type": "code",
   "execution_count": 6,
   "metadata": {
    "colab": {
     "base_uri": "https://localhost:8080/",
     "height": 153
    },
    "colab_type": "code",
    "id": "g0CHcG5ZIeg5",
    "outputId": "1742dd4d-83dd-47dc-c681-d729dd9f6879"
   },
   "outputs": [
    {
     "name": "stdout",
     "output_type": "stream",
     "text": [
      "[[[0.00000000e+000 2.32035990e+077 8.89318163e-323 0.00000000e+000]\n",
      "  [2.12199579e-314 5.02034658e+175 4.08963275e-037 3.37923680e-057]]\n",
      "\n",
      " [[8.70404348e-071 3.72709079e-057 1.47763641e+248 1.16096346e-028]\n",
      "  [7.69165785e+218 1.35617292e+248 1.48560457e+161 4.85637090e-033]]\n",
      "\n",
      " [[2.14297693e+160 2.67847530e-032 4.26489454e-096 6.32299154e+233]\n",
      "  [6.48224638e+170 5.22411352e+257 5.74020278e+180 8.37174974e-144]]]\n"
     ]
    }
   ],
   "source": [
    "object6 = np.empty((3, 2, 4))\n",
    "print(object6)"
   ]
  },
  {
   "cell_type": "markdown",
   "metadata": {
    "colab_type": "text",
    "id": "Lva4LXMJBvHV"
   },
   "source": [
    "## Show Numpy Shape"
   ]
  },
  {
   "cell_type": "code",
   "execution_count": 7,
   "metadata": {
    "colab": {
     "base_uri": "https://localhost:8080/",
     "height": 34
    },
    "colab_type": "code",
    "id": "8bUW1-kMBzoP",
    "outputId": "7129eb08-b71a-4c97-882b-1ad65cf1a9ee"
   },
   "outputs": [
    {
     "name": "stdout",
     "output_type": "stream",
     "text": [
      "(3, 2, 4)\n"
     ]
    }
   ],
   "source": [
    "print(object6.shape)"
   ]
  },
  {
   "cell_type": "markdown",
   "metadata": {
    "colab_type": "text",
    "id": "1QUwaAG6BXI4"
   },
   "source": [
    "## change numpy shape"
   ]
  },
  {
   "cell_type": "code",
   "execution_count": 8,
   "metadata": {
    "colab": {
     "base_uri": "https://localhost:8080/",
     "height": 153
    },
    "colab_type": "code",
    "id": "aX8NaBOPBaUj",
    "outputId": "43c949da-db50-4f92-e428-2a73bb5dda86"
   },
   "outputs": [
    {
     "name": "stdout",
     "output_type": "stream",
     "text": [
      "[[0.00000000e+000 2.32035990e+077 8.89318163e-323 0.00000000e+000\n",
      "  2.12199579e-314 5.02034658e+175]\n",
      " [4.08963275e-037 3.37923680e-057 8.70404348e-071 3.72709079e-057\n",
      "  1.47763641e+248 1.16096346e-028]\n",
      " [7.69165785e+218 1.35617292e+248 1.48560457e+161 4.85637090e-033\n",
      "  2.14297693e+160 2.67847530e-032]\n",
      " [4.26489454e-096 6.32299154e+233 6.48224638e+170 5.22411352e+257\n",
      "  5.74020278e+180 8.37174974e-144]]\n"
     ]
    }
   ],
   "source": [
    "object6 = object6.reshape(4, 6)\n",
    "print(object6)"
   ]
  },
  {
   "cell_type": "markdown",
   "metadata": {
    "colab_type": "text",
    "id": "nYMy4t-OB8FA"
   },
   "source": [
    "## Show Numpy Date Type"
   ]
  },
  {
   "cell_type": "code",
   "execution_count": 9,
   "metadata": {
    "colab": {
     "base_uri": "https://localhost:8080/",
     "height": 34
    },
    "colab_type": "code",
    "id": "wngJofjoCDNW",
    "outputId": "d714fa59-eef4-4a99-f664-33e19a7ddeb5"
   },
   "outputs": [
    {
     "name": "stdout",
     "output_type": "stream",
     "text": [
      "int64\n"
     ]
    }
   ],
   "source": [
    "# print(object0.dtype)\n",
    "print(object0.dtype.name)"
   ]
  },
  {
   "cell_type": "markdown",
   "metadata": {
    "colab_type": "text",
    "id": "tnBfaZs7CMXW"
   },
   "source": [
    "## Show Item Size"
   ]
  },
  {
   "cell_type": "code",
   "execution_count": 10,
   "metadata": {
    "colab": {
     "base_uri": "https://localhost:8080/",
     "height": 34
    },
    "colab_type": "code",
    "id": "vbD2hNlqCSwz",
    "outputId": "d845b6ae-94f3-4c3e-e396-b068429d1f40"
   },
   "outputs": [
    {
     "name": "stdout",
     "output_type": "stream",
     "text": [
      "8\n"
     ]
    }
   ],
   "source": [
    "print(object0.itemsize)"
   ]
  },
  {
   "cell_type": "markdown",
   "metadata": {
    "colab_type": "text",
    "id": "yflsq8RiCYCy"
   },
   "source": [
    "## Show Numpy Object Size"
   ]
  },
  {
   "cell_type": "code",
   "execution_count": 11,
   "metadata": {
    "colab": {
     "base_uri": "https://localhost:8080/",
     "height": 34
    },
    "colab_type": "code",
    "id": "rfHsBiJNCchn",
    "outputId": "91da6e34-ae02-4863-f1bf-87810083900e"
   },
   "outputs": [
    {
     "name": "stdout",
     "output_type": "stream",
     "text": [
      "20\n"
     ]
    }
   ],
   "source": [
    "print(object0.size)"
   ]
  },
  {
   "cell_type": "markdown",
   "metadata": {
    "colab_type": "text",
    "id": "pznQ06mTClRH"
   },
   "source": [
    "## Show Object Type"
   ]
  },
  {
   "cell_type": "code",
   "execution_count": 12,
   "metadata": {
    "colab": {
     "base_uri": "https://localhost:8080/",
     "height": 34
    },
    "colab_type": "code",
    "id": "F3fhNsibCnY1",
    "outputId": "8188849e-b8db-465e-d24b-aeed0b425016"
   },
   "outputs": [
    {
     "name": "stdout",
     "output_type": "stream",
     "text": [
      "<class 'numpy.ndarray'>\n"
     ]
    }
   ],
   "source": [
    "print(type(object0))"
   ]
  },
  {
   "cell_type": "markdown",
   "metadata": {
    "colab_type": "text",
    "id": "2-_k1vbwCtBG"
   },
   "source": [
    "## List To Numpy"
   ]
  },
  {
   "cell_type": "code",
   "execution_count": 13,
   "metadata": {
    "colab": {
     "base_uri": "https://localhost:8080/",
     "height": 68
    },
    "colab_type": "code",
    "id": "U6oJWQJbCzRJ",
    "outputId": "1709a68e-b055-4b01-e7e7-9228f4e5b61b"
   },
   "outputs": [
    {
     "name": "stdout",
     "output_type": "stream",
     "text": [
      "[1, 2, 3, 4, 5, 6, 7, 8, 9, 10]\n",
      "[ 1  2  3  4  5  6  7  8  9 10]\n",
      "<class 'numpy.ndarray'>\n"
     ]
    }
   ],
   "source": [
    "tempList2 = list(range(1, 11))\n",
    "print(tempList2)\n",
    "newNumpyObject2 = np.array(tempList2)\n",
    "print(newNumpyObject2)\n",
    "print(type(newNumpyObject2))"
   ]
  },
  {
   "cell_type": "markdown",
   "metadata": {
    "colab_type": "text",
    "id": "NcOr1HkRD669"
   },
   "source": [
    "## Tuple To Numpy"
   ]
  },
  {
   "cell_type": "code",
   "execution_count": 14,
   "metadata": {
    "colab": {
     "base_uri": "https://localhost:8080/",
     "height": 68
    },
    "colab_type": "code",
    "id": "qQN-6IiID_H6",
    "outputId": "461000b7-7db7-4001-bc80-b2fce9e70061"
   },
   "outputs": [
    {
     "name": "stdout",
     "output_type": "stream",
     "text": [
      "(1, 2, 3, 4, 5, 6, 7, 8, 9, 10)\n",
      "[ 1  2  3  4  5  6  7  8  9 10]\n",
      "<class 'numpy.ndarray'>\n"
     ]
    }
   ],
   "source": [
    "tempList1 = tuple(range(1, 11))\n",
    "print(tempList1)\n",
    "newNumpyObject1 = np.array(tempList1)\n",
    "print(newNumpyObject1)\n",
    "print(type(newNumpyObject1))"
   ]
  },
  {
   "cell_type": "markdown",
   "metadata": {
    "colab_type": "text",
    "id": "AuvalW1YLSls"
   },
   "source": [
    "## Numpy Create Array\n",
    "\n",
    "* return array type "
   ]
  },
  {
   "cell_type": "code",
   "execution_count": 15,
   "metadata": {
    "colab": {
     "base_uri": "https://localhost:8080/",
     "height": 51
    },
    "colab_type": "code",
    "id": "WGav8n3vLaPA",
    "outputId": "65497b3c-82f5-419e-980d-96efe161cc00"
   },
   "outputs": [
    {
     "name": "stdout",
     "output_type": "stream",
     "text": [
      "[0 1 2]\n",
      "int64\n"
     ]
    }
   ],
   "source": [
    "object7 = np.arange(3)\n",
    "print(object7)\n",
    "print(object7.dtype)"
   ]
  }
 ],
 "metadata": {
  "colab": {
   "authorship_tag": "ABX9TyNXFr9RYp+IFTIjodsT2S4I",
   "collapsed_sections": [],
   "include_colab_link": true,
   "name": "Numpy快速入门.ipynb",
   "provenance": [],
   "toc_visible": true
  },
  "kernelspec": {
   "display_name": "Python 3",
   "language": "python",
   "name": "python3"
  },
  "language_info": {
   "codemirror_mode": {
    "name": "ipython",
    "version": 3
   },
   "file_extension": ".py",
   "mimetype": "text/x-python",
   "name": "python",
   "nbconvert_exporter": "python",
   "pygments_lexer": "ipython3",
   "version": "3.7.6"
  }
 },
 "nbformat": 4,
 "nbformat_minor": 1
}
