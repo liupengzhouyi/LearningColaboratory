{
  "nbformat": 4,
  "nbformat_minor": 0,
  "metadata": {
    "colab": {
      "name": "Numpy快速入门.ipynb",
      "provenance": [],
      "collapsed_sections": [],
      "toc_visible": true,
      "authorship_tag": "ABX9TyNXFr9RYp+IFTIjodsT2S4I",
      "include_colab_link": true
    },
    "kernelspec": {
      "name": "python3",
      "display_name": "Python 3"
    }
  },
  "cells": [
    {
      "cell_type": "markdown",
      "metadata": {
        "id": "view-in-github",
        "colab_type": "text"
      },
      "source": [
        "<a href=\"https://colab.research.google.com/github/liupengzhouyi/LearningColaboratory/blob/master/20200627/Numpy%E5%BF%AB%E9%80%9F%E5%85%A5%E9%97%A8.ipynb\" target=\"_parent\"><img src=\"https://colab.research.google.com/assets/colab-badge.svg\" alt=\"Open In Colab\"/></a>"
      ]
    },
    {
      "cell_type": "markdown",
      "metadata": {
        "id": "CBIQ7N6Doyuo",
        "colab_type": "text"
      },
      "source": [
        "# Numpy 快速入门"
      ]
    },
    {
      "cell_type": "markdown",
      "metadata": {
        "id": "psHyYItgBrn2",
        "colab_type": "text"
      },
      "source": [
        "## create Numpy Object"
      ]
    },
    {
      "cell_type": "code",
      "metadata": {
        "id": "OvtSCI_5orPg",
        "colab_type": "code",
        "colab": {
          "base_uri": "https://localhost:8080/",
          "height": 34
        },
        "outputId": "7567fd3e-7994-40ae-8abe-ed16fb9b348f"
      },
      "source": [
        "import numpy as np\n",
        "object0 = np.arange(1, 21)\n",
        "print(object0)"
      ],
      "execution_count": 11,
      "outputs": [
        {
          "output_type": "stream",
          "text": [
            "[ 1  2  3  4  5  6  7  8  9 10 11 12 13 14 15 16 17 18 19 20]\n"
          ],
          "name": "stdout"
        }
      ]
    },
    {
      "cell_type": "markdown",
      "metadata": {
        "id": "VuyhcSvqDS--",
        "colab_type": "text"
      },
      "source": [
        "## create Numpy By function array()"
      ]
    },
    {
      "cell_type": "code",
      "metadata": {
        "id": "mBxKsN_RDZJD",
        "colab_type": "code",
        "colab": {
          "base_uri": "https://localhost:8080/",
          "height": 51
        },
        "outputId": "7128e0db-19b9-4408-d35e-7f1330293c9b"
      },
      "source": [
        "# list\n",
        "object1 = np.array([1,2,3])\n",
        "print(object1)\n",
        "# tuple\n",
        "object2 = np.array((2.2,3,4))\n",
        "print(object2)"
      ],
      "execution_count": 12,
      "outputs": [
        {
          "output_type": "stream",
          "text": [
            "[1 2 3]\n",
            "[2.2 3.  4. ]\n"
          ],
          "name": "stdout"
        }
      ]
    },
    {
      "cell_type": "markdown",
      "metadata": {
        "id": "MVWrAcKgEhFg",
        "colab_type": "text"
      },
      "source": [
        "## Setting Numpy Object Data Type When You Create Numpy Object"
      ]
    },
    {
      "cell_type": "code",
      "metadata": {
        "id": "IYntw2ZtEqMj",
        "colab_type": "code",
        "colab": {
          "base_uri": "https://localhost:8080/",
          "height": 51
        },
        "outputId": "4e35d33e-d8ed-4be4-908f-05db73cab2df"
      },
      "source": [
        "object3 = np.array([123,456], dtype=np.float32)\n",
        "print(type(object3))\n",
        "print(object3.dtype)"
      ],
      "execution_count": 13,
      "outputs": [
        {
          "output_type": "stream",
          "text": [
            "<class 'numpy.ndarray'>\n",
            "float32\n"
          ],
          "name": "stdout"
        }
      ]
    },
    {
      "cell_type": "markdown",
      "metadata": {
        "id": "NBVlJnnSICcT",
        "colab_type": "text"
      },
      "source": [
        "## Create Zeros Numpy Object\n"
      ]
    },
    {
      "cell_type": "code",
      "metadata": {
        "id": "rEaqmD7fIFr3",
        "colab_type": "code",
        "colab": {
          "base_uri": "https://localhost:8080/",
          "height": 102
        },
        "outputId": "4df14481-5c69-45f8-fe7c-64f068727fa1"
      },
      "source": [
        "object4 = np.zeros((5, 7))\n",
        "print(object4)"
      ],
      "execution_count": 14,
      "outputs": [
        {
          "output_type": "stream",
          "text": [
            "[[0. 0. 0. 0. 0. 0. 0.]\n",
            " [0. 0. 0. 0. 0. 0. 0.]\n",
            " [0. 0. 0. 0. 0. 0. 0.]\n",
            " [0. 0. 0. 0. 0. 0. 0.]\n",
            " [0. 0. 0. 0. 0. 0. 0.]]\n"
          ],
          "name": "stdout"
        }
      ]
    },
    {
      "cell_type": "markdown",
      "metadata": {
        "id": "XHPCtahnIUMZ",
        "colab_type": "text"
      },
      "source": [
        "## create Ones Numpy Object"
      ]
    },
    {
      "cell_type": "code",
      "metadata": {
        "id": "ZEHjv3sDIX23",
        "colab_type": "code",
        "colab": {
          "base_uri": "https://localhost:8080/",
          "height": 68
        },
        "outputId": "b80727e2-3875-4267-b91e-431ffe16d7f6"
      },
      "source": [
        "object5 = np.ones((3, 4))\n",
        "print(object5)"
      ],
      "execution_count": 15,
      "outputs": [
        {
          "output_type": "stream",
          "text": [
            "[[1. 1. 1. 1.]\n",
            " [1. 1. 1. 1.]\n",
            " [1. 1. 1. 1.]]\n"
          ],
          "name": "stdout"
        }
      ]
    },
    {
      "cell_type": "markdown",
      "metadata": {
        "id": "KVkQXLpbIlxJ",
        "colab_type": "text"
      },
      "source": [
        "## Create Range Numpy Object"
      ]
    },
    {
      "cell_type": "code",
      "metadata": {
        "id": "g0CHcG5ZIeg5",
        "colab_type": "code",
        "colab": {
          "base_uri": "https://localhost:8080/",
          "height": 153
        },
        "outputId": "1742dd4d-83dd-47dc-c681-d729dd9f6879"
      },
      "source": [
        "object6 = np.empty((3, 2, 4))\n",
        "print(object6)"
      ],
      "execution_count": 26,
      "outputs": [
        {
          "output_type": "stream",
          "text": [
            "[[[1.25136e-316 0.00000e+000 0.00000e+000 0.00000e+000]\n",
            "  [0.00000e+000 0.00000e+000 0.00000e+000 0.00000e+000]]\n",
            "\n",
            " [[0.00000e+000 0.00000e+000 0.00000e+000 0.00000e+000]\n",
            "  [0.00000e+000 0.00000e+000 0.00000e+000 0.00000e+000]]\n",
            "\n",
            " [[0.00000e+000 0.00000e+000 0.00000e+000 0.00000e+000]\n",
            "  [0.00000e+000 0.00000e+000 0.00000e+000 0.00000e+000]]]\n"
          ],
          "name": "stdout"
        }
      ]
    },
    {
      "cell_type": "markdown",
      "metadata": {
        "id": "Lva4LXMJBvHV",
        "colab_type": "text"
      },
      "source": [
        "## Show Numpy Shape"
      ]
    },
    {
      "cell_type": "code",
      "metadata": {
        "id": "8bUW1-kMBzoP",
        "colab_type": "code",
        "colab": {
          "base_uri": "https://localhost:8080/",
          "height": 34
        },
        "outputId": "7129eb08-b71a-4c97-882b-1ad65cf1a9ee"
      },
      "source": [
        "print(object6.shape)"
      ],
      "execution_count": 27,
      "outputs": [
        {
          "output_type": "stream",
          "text": [
            "(3, 2, 4)\n"
          ],
          "name": "stdout"
        }
      ]
    },
    {
      "cell_type": "markdown",
      "metadata": {
        "id": "1QUwaAG6BXI4",
        "colab_type": "text"
      },
      "source": [
        "## change numpy shape"
      ]
    },
    {
      "cell_type": "code",
      "metadata": {
        "id": "aX8NaBOPBaUj",
        "colab_type": "code",
        "colab": {
          "base_uri": "https://localhost:8080/",
          "height": 153
        },
        "outputId": "43c949da-db50-4f92-e428-2a73bb5dda86"
      },
      "source": [
        "object6 = object6.reshape(4, 6)\n",
        "print(object6)"
      ],
      "execution_count": 28,
      "outputs": [
        {
          "output_type": "stream",
          "text": [
            "[[1.25136e-316 0.00000e+000 0.00000e+000 0.00000e+000 0.00000e+000\n",
            "  0.00000e+000]\n",
            " [0.00000e+000 0.00000e+000 0.00000e+000 0.00000e+000 0.00000e+000\n",
            "  0.00000e+000]\n",
            " [0.00000e+000 0.00000e+000 0.00000e+000 0.00000e+000 0.00000e+000\n",
            "  0.00000e+000]\n",
            " [0.00000e+000 0.00000e+000 0.00000e+000 0.00000e+000 0.00000e+000\n",
            "  0.00000e+000]]\n"
          ],
          "name": "stdout"
        }
      ]
    },
    {
      "cell_type": "markdown",
      "metadata": {
        "id": "nYMy4t-OB8FA",
        "colab_type": "text"
      },
      "source": [
        "## Show Numpy Date Type"
      ]
    },
    {
      "cell_type": "code",
      "metadata": {
        "id": "wngJofjoCDNW",
        "colab_type": "code",
        "colab": {
          "base_uri": "https://localhost:8080/",
          "height": 34
        },
        "outputId": "d714fa59-eef4-4a99-f664-33e19a7ddeb5"
      },
      "source": [
        "# print(object0.dtype)\n",
        "print(object0.dtype.name)"
      ],
      "execution_count": 19,
      "outputs": [
        {
          "output_type": "stream",
          "text": [
            "int64\n"
          ],
          "name": "stdout"
        }
      ]
    },
    {
      "cell_type": "markdown",
      "metadata": {
        "id": "tnBfaZs7CMXW",
        "colab_type": "text"
      },
      "source": [
        "## Show Item Size"
      ]
    },
    {
      "cell_type": "code",
      "metadata": {
        "id": "vbD2hNlqCSwz",
        "colab_type": "code",
        "colab": {
          "base_uri": "https://localhost:8080/",
          "height": 34
        },
        "outputId": "d845b6ae-94f3-4c3e-e396-b068429d1f40"
      },
      "source": [
        "print(object0.itemsize)"
      ],
      "execution_count": 20,
      "outputs": [
        {
          "output_type": "stream",
          "text": [
            "8\n"
          ],
          "name": "stdout"
        }
      ]
    },
    {
      "cell_type": "markdown",
      "metadata": {
        "id": "yflsq8RiCYCy",
        "colab_type": "text"
      },
      "source": [
        "## Show Numpy Object Size"
      ]
    },
    {
      "cell_type": "code",
      "metadata": {
        "id": "rfHsBiJNCchn",
        "colab_type": "code",
        "colab": {
          "base_uri": "https://localhost:8080/",
          "height": 34
        },
        "outputId": "91da6e34-ae02-4863-f1bf-87810083900e"
      },
      "source": [
        "print(object0.size)"
      ],
      "execution_count": 21,
      "outputs": [
        {
          "output_type": "stream",
          "text": [
            "20\n"
          ],
          "name": "stdout"
        }
      ]
    },
    {
      "cell_type": "markdown",
      "metadata": {
        "id": "pznQ06mTClRH",
        "colab_type": "text"
      },
      "source": [
        "## Show Object Type"
      ]
    },
    {
      "cell_type": "code",
      "metadata": {
        "id": "F3fhNsibCnY1",
        "colab_type": "code",
        "colab": {
          "base_uri": "https://localhost:8080/",
          "height": 34
        },
        "outputId": "8188849e-b8db-465e-d24b-aeed0b425016"
      },
      "source": [
        "print(type(object0))"
      ],
      "execution_count": 22,
      "outputs": [
        {
          "output_type": "stream",
          "text": [
            "<class 'numpy.ndarray'>\n"
          ],
          "name": "stdout"
        }
      ]
    },
    {
      "cell_type": "markdown",
      "metadata": {
        "id": "2-_k1vbwCtBG",
        "colab_type": "text"
      },
      "source": [
        "## List To Numpy"
      ]
    },
    {
      "cell_type": "code",
      "metadata": {
        "id": "U6oJWQJbCzRJ",
        "colab_type": "code",
        "colab": {
          "base_uri": "https://localhost:8080/",
          "height": 68
        },
        "outputId": "1709a68e-b055-4b01-e7e7-9228f4e5b61b"
      },
      "source": [
        "tempList2 = list(range(1, 11))\n",
        "print(tempList2)\n",
        "newNumpyObject2 = np.array(tempList2)\n",
        "print(newNumpyObject2)\n",
        "print(type(newNumpyObject2))"
      ],
      "execution_count": 23,
      "outputs": [
        {
          "output_type": "stream",
          "text": [
            "[1, 2, 3, 4, 5, 6, 7, 8, 9, 10]\n",
            "[ 1  2  3  4  5  6  7  8  9 10]\n",
            "<class 'numpy.ndarray'>\n"
          ],
          "name": "stdout"
        }
      ]
    },
    {
      "cell_type": "markdown",
      "metadata": {
        "id": "NcOr1HkRD669",
        "colab_type": "text"
      },
      "source": [
        "## Tuple To Numpy"
      ]
    },
    {
      "cell_type": "code",
      "metadata": {
        "id": "qQN-6IiID_H6",
        "colab_type": "code",
        "colab": {
          "base_uri": "https://localhost:8080/",
          "height": 68
        },
        "outputId": "461000b7-7db7-4001-bc80-b2fce9e70061"
      },
      "source": [
        "tempList1 = tuple(range(1, 11))\n",
        "print(tempList1)\n",
        "newNumpyObject1 = np.array(tempList1)\n",
        "print(newNumpyObject1)\n",
        "print(type(newNumpyObject1))"
      ],
      "execution_count": 24,
      "outputs": [
        {
          "output_type": "stream",
          "text": [
            "(1, 2, 3, 4, 5, 6, 7, 8, 9, 10)\n",
            "[ 1  2  3  4  5  6  7  8  9 10]\n",
            "<class 'numpy.ndarray'>\n"
          ],
          "name": "stdout"
        }
      ]
    },
    {
      "cell_type": "markdown",
      "metadata": {
        "id": "AuvalW1YLSls",
        "colab_type": "text"
      },
      "source": [
        "## Numpy Create Array\n",
        "\n",
        "* return array type "
      ]
    },
    {
      "cell_type": "code",
      "metadata": {
        "id": "WGav8n3vLaPA",
        "colab_type": "code",
        "colab": {
          "base_uri": "https://localhost:8080/",
          "height": 51
        },
        "outputId": "65497b3c-82f5-419e-980d-96efe161cc00"
      },
      "source": [
        "object7 = np.arange(3)\n",
        "print(object7)\n",
        "print(object7.dtype)"
      ],
      "execution_count": 34,
      "outputs": [
        {
          "output_type": "stream",
          "text": [
            "[0 1 2]\n",
            "int64\n"
          ],
          "name": "stdout"
        }
      ]
    }
  ]
}