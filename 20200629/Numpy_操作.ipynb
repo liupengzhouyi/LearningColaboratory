{
  "nbformat": 4,
  "nbformat_minor": 0,
  "metadata": {
    "colab": {
      "name": "Numpy 操作.ipynb",
      "provenance": [],
      "authorship_tag": "ABX9TyNRjHYr+z8yV+rGj2Gy4mpl",
      "include_colab_link": true
    },
    "kernelspec": {
      "name": "python3",
      "display_name": "Python 3"
    }
  },
  "cells": [
    {
      "cell_type": "markdown",
      "metadata": {
        "id": "view-in-github",
        "colab_type": "text"
      },
      "source": [
        "<a href=\"https://colab.research.google.com/github/liupengzhouyi/LearningColaboratory/blob/master/20200629/Numpy_%E6%93%8D%E4%BD%9C.ipynb\" target=\"_parent\"><img src=\"https://colab.research.google.com/assets/colab-badge.svg\" alt=\"Open In Colab\"/></a>"
      ]
    },
    {
      "cell_type": "markdown",
      "metadata": {
        "id": "Igamd4c8Pyd9",
        "colab_type": "text"
      },
      "source": [
        "# Operating Numpy Object "
      ]
    },
    {
      "cell_type": "markdown",
      "metadata": {
        "id": "7eWouamL90K5",
        "colab_type": "text"
      },
      "source": [
        "## Create Numpy Object"
      ]
    },
    {
      "cell_type": "code",
      "metadata": {
        "id": "WqdBM2PrPpli",
        "colab_type": "code",
        "colab": {
          "base_uri": "https://localhost:8080/",
          "height": 34
        },
        "outputId": "c388c557-5f45-4ee7-dd5b-474147e48611"
      },
      "source": [
        "import numpy\n",
        "object21 = numpy.array([20, 30, 40, 50])\n",
        "print(object21)\n",
        "object22 = numpy.arange(4)\n",
        "print(object22)"
      ],
      "execution_count": null,
      "outputs": [
        {
          "output_type": "stream",
          "text": [
            "[20 30 40 50]\n"
          ],
          "name": "stdout"
        }
      ]
    },
    {
      "cell_type": "markdown",
      "metadata": {
        "id": "lf8rwZcZ93w7",
        "colab_type": "text"
      },
      "source": [
        "## Add"
      ]
    },
    {
      "cell_type": "code",
      "metadata": {
        "id": "9xvSWb427j7K",
        "colab_type": "code",
        "colab": {
          "base_uri": "https://localhost:8080/",
          "height": 34
        },
        "outputId": "8f79d22d-8aad-419e-e3d8-103770fa3f47"
      },
      "source": [
        "object23 = object21 + object22\n",
        "print(object23)"
      ],
      "execution_count": null,
      "outputs": [
        {
          "output_type": "stream",
          "text": [
            "[20 31 42 53]\n"
          ],
          "name": "stdout"
        }
      ]
    },
    {
      "cell_type": "markdown",
      "metadata": {
        "id": "CuD-L4Mu9tB2",
        "colab_type": "text"
      },
      "source": [
        "## Substruction"
      ]
    },
    {
      "cell_type": "code",
      "metadata": {
        "id": "l8vJiaRD-ORV",
        "colab_type": "code",
        "colab": {
          "base_uri": "https://localhost:8080/",
          "height": 34
        },
        "outputId": "f1d53d07-3bbd-43e9-9ce5-d2a6292e9358"
      },
      "source": [
        "object24 = object21 - object22;\n",
        "print(object24)"
      ],
      "execution_count": null,
      "outputs": [
        {
          "output_type": "stream",
          "text": [
            "[20 29 38 47]\n"
          ],
          "name": "stdout"
        }
      ]
    },
    {
      "cell_type": "markdown",
      "metadata": {
        "id": "ZA2t0tgx-Z6i",
        "colab_type": "text"
      },
      "source": [
        "## Power"
      ]
    },
    {
      "cell_type": "code",
      "metadata": {
        "id": "NzFF1vnZ-h1S",
        "colab_type": "code",
        "colab": {
          "base_uri": "https://localhost:8080/",
          "height": 34
        },
        "outputId": "33bceb31-0dff-4a28-8e39-4e8106c7ec95"
      },
      "source": [
        "object25 = object22 ** 2\n",
        "print(object25)"
      ],
      "execution_count": null,
      "outputs": [
        {
          "output_type": "stream",
          "text": [
            "[0 1 4 9]\n"
          ],
          "name": "stdout"
        }
      ]
    },
    {
      "cell_type": "markdown",
      "metadata": {
        "id": "My2oXiCi-sym",
        "colab_type": "text"
      },
      "source": [
        "##Multiplicaion Item In Matrix "
      ]
    },
    {
      "cell_type": "code",
      "metadata": {
        "id": "Y8tlVYga-sN-",
        "colab_type": "code",
        "colab": {
          "base_uri": "https://localhost:8080/",
          "height": 119
        },
        "outputId": "657e34cd-025f-4f95-8b73-c0a1c3f1d593"
      },
      "source": [
        "object26 = numpy.array([[1, 2], [3, 4]])\n",
        "object27 = numpy.array([[2, 3], [4, 1]])\n",
        "print(object26)\n",
        "print(object27)\n",
        "\n",
        "object28 = object26 * object27\n",
        "print(object28)"
      ],
      "execution_count": null,
      "outputs": [
        {
          "output_type": "stream",
          "text": [
            "[[1 2]\n",
            " [3 4]]\n",
            "[[2 3]\n",
            " [4 1]]\n",
            "[[ 2  6]\n",
            " [12  4]]\n"
          ],
          "name": "stdout"
        }
      ]
    },
    {
      "cell_type": "markdown",
      "metadata": {
        "id": "tK7pn7ph_o6v",
        "colab_type": "text"
      },
      "source": [
        "## Multiplication Of matrix"
      ]
    },
    {
      "cell_type": "code",
      "metadata": {
        "id": "gPceZrqo_x-G",
        "colab_type": "code",
        "colab": {
          "base_uri": "https://localhost:8080/",
          "height": 85
        },
        "outputId": "1ddb1ca1-6738-477f-cda7-275e72e65c23"
      },
      "source": [
        "object29 = object26 @ object27\n",
        "print(object29)\n",
        "object210 = object26.dot(object27)\n",
        "print(object210)"
      ],
      "execution_count": null,
      "outputs": [
        {
          "output_type": "stream",
          "text": [
            "[[10  5]\n",
            " [22 13]]\n",
            "[[10  5]\n",
            " [22 13]]\n"
          ],
          "name": "stdout"
        }
      ]
    },
    {
      "cell_type": "markdown",
      "metadata": {
        "id": "qeQbElKtANxf",
        "colab_type": "text"
      },
      "source": [
        "## Operating in ord Matrix"
      ]
    },
    {
      "cell_type": "code",
      "metadata": {
        "id": "VUzoCcLUAS-x",
        "colab_type": "code",
        "colab": {
          "base_uri": "https://localhost:8080/",
          "height": 85
        },
        "outputId": "ac672c86-e206-4628-bbff-86c7eb89c71d"
      },
      "source": [
        "object211 = numpy.arange(4).reshape(2, 2)\n",
        "print(object211)\n",
        "object211 += 2\n",
        "print(object211)\n"
      ],
      "execution_count": null,
      "outputs": [
        {
          "output_type": "stream",
          "text": [
            "[[0 1]\n",
            " [2 3]]\n",
            "[[2 3]\n",
            " [4 5]]\n"
          ],
          "name": "stdout"
        }
      ]
    },
    {
      "cell_type": "markdown",
      "metadata": {
        "id": "ToUe_eh6BSCI",
        "colab_type": "text"
      },
      "source": [
        "## Get Max"
      ]
    },
    {
      "cell_type": "code",
      "metadata": {
        "id": "AEVUWAKTBLzo",
        "colab_type": "code",
        "colab": {
          "base_uri": "https://localhost:8080/",
          "height": 34
        },
        "outputId": "8b7b7076-c4fc-49ea-b86e-f08498a81809"
      },
      "source": [
        "print(object211.max())"
      ],
      "execution_count": null,
      "outputs": [
        {
          "output_type": "stream",
          "text": [
            "5\n"
          ],
          "name": "stdout"
        }
      ]
    },
    {
      "cell_type": "markdown",
      "metadata": {
        "id": "jHZJPz2JBKQK",
        "colab_type": "text"
      },
      "source": [
        "## Get Min"
      ]
    },
    {
      "cell_type": "code",
      "metadata": {
        "id": "dzwxzTlABVsJ",
        "colab_type": "code",
        "colab": {
          "base_uri": "https://localhost:8080/",
          "height": 34
        },
        "outputId": "ac81b66c-b33a-43f2-bd6a-cfb5732c31ff"
      },
      "source": [
        "print(object211.min())"
      ],
      "execution_count": null,
      "outputs": [
        {
          "output_type": "stream",
          "text": [
            "2\n"
          ],
          "name": "stdout"
        }
      ]
    },
    {
      "cell_type": "markdown",
      "metadata": {
        "id": "P8bj03qbBY9E",
        "colab_type": "text"
      },
      "source": [
        "## Get sum"
      ]
    },
    {
      "cell_type": "code",
      "metadata": {
        "id": "hCZ7JYkIBa8F",
        "colab_type": "code",
        "colab": {
          "base_uri": "https://localhost:8080/",
          "height": 34
        },
        "outputId": "fc29f016-dc11-4f66-fe28-4bbdfa2df8f6"
      },
      "source": [
        "print(object211.sum())"
      ],
      "execution_count": null,
      "outputs": [
        {
          "output_type": "stream",
          "text": [
            "14\n"
          ],
          "name": "stdout"
        }
      ]
    },
    {
      "cell_type": "markdown",
      "metadata": {
        "id": "iJtRICIkB5LF",
        "colab_type": "text"
      },
      "source": [
        "## Specified axis"
      ]
    },
    {
      "cell_type": "code",
      "metadata": {
        "id": "abNXAYjlCKpB",
        "colab_type": "code",
        "colab": {
          "base_uri": "https://localhost:8080/",
          "height": 187
        },
        "outputId": "48e292ee-f6a6-4958-8502-c318febea015"
      },
      "source": [
        "object212 = numpy.arange(20).reshape(4,5)\n",
        "print(object212)\n",
        "print(object212.sum(axis=0))\n",
        "print(object212.sum(axis=1))\n",
        "print(object212.max(axis=0))\n",
        "print(object212.max(axis=1))\n",
        "print(object212.min(axis=0))\n",
        "print(object212.min(axis=1))"
      ],
      "execution_count": null,
      "outputs": [
        {
          "output_type": "stream",
          "text": [
            "[[ 0  1  2  3  4]\n",
            " [ 5  6  7  8  9]\n",
            " [10 11 12 13 14]\n",
            " [15 16 17 18 19]]\n",
            "[30 34 38 42 46]\n",
            "[10 35 60 85]\n",
            "[15 16 17 18 19]\n",
            "[ 4  9 14 19]\n",
            "[0 1 2 3 4]\n",
            "[ 0  5 10 15]\n"
          ],
          "name": "stdout"
        }
      ]
    },
    {
      "cell_type": "markdown",
      "metadata": {
        "id": "6tX3Az1hD1kX",
        "colab_type": "text"
      },
      "source": [
        "## index"
      ]
    },
    {
      "cell_type": "code",
      "metadata": {
        "id": "pl3GuqXRD2_e",
        "colab_type": "code",
        "colab": {
          "base_uri": "https://localhost:8080/",
          "height": 51
        },
        "outputId": "357490b2-ca49-425d-c9e7-956cdf899f98"
      },
      "source": [
        "object213 = numpy.arange(20)\n",
        "print(object213)\n",
        "if len(object213) > 3:\n",
        "    print(object213[3])"
      ],
      "execution_count": null,
      "outputs": [
        {
          "output_type": "stream",
          "text": [
            "[ 0  1  2  3  4  5  6  7  8  9 10 11 12 13 14 15 16 17 18 19]\n",
            "3\n"
          ],
          "name": "stdout"
        }
      ]
    },
    {
      "cell_type": "markdown",
      "metadata": {
        "id": "m1bCbAh4ESDp",
        "colab_type": "text"
      },
      "source": [
        "## Sliced"
      ]
    },
    {
      "cell_type": "code",
      "metadata": {
        "id": "Cco3gfCAEbt0",
        "colab_type": "code",
        "colab": {
          "base_uri": "https://localhost:8080/",
          "height": 51
        },
        "outputId": "12836d2d-5dd8-46e3-da23-8960b3174656"
      },
      "source": [
        "print(object213[15:2:-3])\n",
        "print(object213[1:12:2])"
      ],
      "execution_count": null,
      "outputs": [
        {
          "output_type": "stream",
          "text": [
            "[15 12  9  6  3]\n",
            "[ 1  3  5  7  9 11]\n"
          ],
          "name": "stdout"
        }
      ]
    }
  ]
}