{
  "nbformat": 4,
  "nbformat_minor": 0,
  "metadata": {
    "colab": {
      "name": "NumpyShape.ipynb",
      "provenance": [],
      "collapsed_sections": [],
      "toc_visible": true
    },
    "kernelspec": {
      "name": "python3",
      "display_name": "Python 3"
    }
  },
  "cells": [
    {
      "cell_type": "markdown",
      "metadata": {
        "id": "qyfl9w8aFqbD",
        "colab_type": "text"
      },
      "source": [
        "# Numpy Shape"
      ]
    },
    {
      "cell_type": "markdown",
      "metadata": {
        "id": "XdM-E1WpGFzy",
        "colab_type": "text"
      },
      "source": [
        "## Create Numpy Object"
      ]
    },
    {
      "cell_type": "code",
      "metadata": {
        "id": "ds2kFmyBFftX",
        "colab_type": "code",
        "colab": {
          "base_uri": "https://localhost:8080/",
          "height": 51
        },
        "outputId": "fe75bdd1-c7f6-4ee7-aa9f-6a2642f6ddda"
      },
      "source": [
        "import numpy\n",
        "object301 = numpy.arange(12)\n",
        "print(object301)\n",
        "print(object301.shape)"
      ],
      "execution_count": 42,
      "outputs": [
        {
          "output_type": "stream",
          "text": [
            "[ 0  1  2  3  4  5  6  7  8  9 10 11]\n",
            "(12,)\n"
          ],
          "name": "stdout"
        }
      ]
    },
    {
      "cell_type": "markdown",
      "metadata": {
        "id": "osnEGD0QHLph",
        "colab_type": "text"
      },
      "source": [
        "## Reset Numpy Object Shape"
      ]
    },
    {
      "cell_type": "code",
      "metadata": {
        "id": "J98yvjkCHO51",
        "colab_type": "code",
        "colab": {
          "base_uri": "https://localhost:8080/",
          "height": 68
        },
        "outputId": "0ea7a5b1-59d7-4da7-8f95-d8fe00ef7e2a"
      },
      "source": [
        "object301 = object301.reshape(2, 6)\n",
        "print(object301)\n",
        "print(object301.shape)"
      ],
      "execution_count": 43,
      "outputs": [
        {
          "output_type": "stream",
          "text": [
            "[[ 0  1  2  3  4  5]\n",
            " [ 6  7  8  9 10 11]]\n",
            "(2, 6)\n"
          ],
          "name": "stdout"
        }
      ]
    },
    {
      "cell_type": "markdown",
      "metadata": {
        "id": "4Lml_wCkIg7O",
        "colab_type": "text"
      },
      "source": [
        "## Stack Matrix\n",
        "![替代文字](https://tva1.sinaimg.cn/large/007S8ZIlly1gg98adasgaj30gg07gmx3.jpg)\n",
        "\n"
      ]
    },
    {
      "cell_type": "code",
      "metadata": {
        "id": "7PVQ86WgJO4V",
        "colab_type": "code",
        "colab": {
          "base_uri": "https://localhost:8080/",
          "height": 187
        },
        "outputId": "a244c7e4-5244-4339-f808-408516f5c168"
      },
      "source": [
        "object302 = numpy.floor(10*numpy.random.random((2, 2)))\n",
        "object303 = numpy.floor(10*numpy.random.random((2, 2)))\n",
        "print(object302)\n",
        "print(object303)\n",
        "object304 = numpy.vstack((object302, object303))\n",
        "print(object304)\n",
        "object305 = numpy.hstack((object302, object303))\n",
        "print(object305)"
      ],
      "execution_count": 44,
      "outputs": [
        {
          "output_type": "stream",
          "text": [
            "[[7. 2.]\n",
            " [5. 3.]]\n",
            "[[9. 8.]\n",
            " [1. 9.]]\n",
            "[[7. 2.]\n",
            " [5. 3.]\n",
            " [9. 8.]\n",
            " [1. 9.]]\n",
            "[[7. 2. 9. 8.]\n",
            " [5. 3. 1. 9.]]\n"
          ],
          "name": "stdout"
        }
      ]
    },
    {
      "cell_type": "markdown",
      "metadata": {
        "id": "rY6FDGAQJOGX",
        "colab_type": "text"
      },
      "source": [
        "## Split Numpy Object"
      ]
    },
    {
      "cell_type": "code",
      "metadata": {
        "id": "C8AesYe5LfLY",
        "colab_type": "code",
        "colab": {
          "base_uri": "https://localhost:8080/",
          "height": 408
        },
        "outputId": "65bf0d21-6183-4ea9-90d7-e50101266d91"
      },
      "source": [
        "object306 = numpy.arange(25, dtype=numpy.int16)\n",
        "print(object306)\n",
        "object306 = object306.reshape(5, 5)\n",
        "print(object306)\n",
        "print(numpy.hsplit(object306, (2, 3)))\n",
        "print(numpy.vsplit(object306, (2, 3)))"
      ],
      "execution_count": 45,
      "outputs": [
        {
          "output_type": "stream",
          "text": [
            "[ 0  1  2  3  4  5  6  7  8  9 10 11 12 13 14 15 16 17 18 19 20 21 22 23\n",
            " 24]\n",
            "[[ 0  1  2  3  4]\n",
            " [ 5  6  7  8  9]\n",
            " [10 11 12 13 14]\n",
            " [15 16 17 18 19]\n",
            " [20 21 22 23 24]]\n",
            "[array([[ 0,  1],\n",
            "       [ 5,  6],\n",
            "       [10, 11],\n",
            "       [15, 16],\n",
            "       [20, 21]], dtype=int16), array([[ 2],\n",
            "       [ 7],\n",
            "       [12],\n",
            "       [17],\n",
            "       [22]], dtype=int16), array([[ 3,  4],\n",
            "       [ 8,  9],\n",
            "       [13, 14],\n",
            "       [18, 19],\n",
            "       [23, 24]], dtype=int16)]\n",
            "[array([[0, 1, 2, 3, 4],\n",
            "       [5, 6, 7, 8, 9]], dtype=int16), array([[10, 11, 12, 13, 14]], dtype=int16), array([[15, 16, 17, 18, 19],\n",
            "       [20, 21, 22, 23, 24]], dtype=int16)]\n"
          ],
          "name": "stdout"
        }
      ]
    },
    {
      "cell_type": "markdown",
      "metadata": {
        "id": "A7Un6LaFjcO4",
        "colab_type": "text"
      },
      "source": [
        "## Copy Numpy "
      ]
    },
    {
      "cell_type": "code",
      "metadata": {
        "id": "tn5gCuHtjgav",
        "colab_type": "code",
        "colab": {
          "base_uri": "https://localhost:8080/",
          "height": 34
        },
        "outputId": "0122d9ab-d41b-4f67-d793-978d13adaa49"
      },
      "source": [
        "object307 = numpy.arange(20)\n",
        "object307.reshape(4, 5)\n",
        "object308 = object307.copy()\n",
        "print(object307 is object308)"
      ],
      "execution_count": 46,
      "outputs": [
        {
          "output_type": "stream",
          "text": [
            "False\n"
          ],
          "name": "stdout"
        }
      ]
    }
  ]
}