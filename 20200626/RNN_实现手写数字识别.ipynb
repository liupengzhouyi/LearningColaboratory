{
  "nbformat": 4,
  "nbformat_minor": 0,
  "metadata": {
    "colab": {
      "name": "RNN 实现手写数字识别.ipynb",
      "provenance": [],
      "collapsed_sections": [],
      "toc_visible": true,
      "authorship_tag": "ABX9TyOWCpBGRMq1ZMxP5wBm81AV",
      "include_colab_link": true
    },
    "kernelspec": {
      "name": "python3",
      "display_name": "Python 3"
    }
  },
  "cells": [
    {
      "cell_type": "markdown",
      "metadata": {
        "id": "view-in-github",
        "colab_type": "text"
      },
      "source": [
        "<a href=\"https://colab.research.google.com/github/liupengzhouyi/LearningColaboratory/blob/master/RNN_%E5%AE%9E%E7%8E%B0%E6%89%8B%E5%86%99%E6%95%B0%E5%AD%97%E8%AF%86%E5%88%AB.ipynb\" target=\"_parent\"><img src=\"https://colab.research.google.com/assets/colab-badge.svg\" alt=\"Open In Colab\"/></a>"
      ]
    },
    {
      "cell_type": "markdown",
      "metadata": {
        "id": "Rhpw4pLSIyYZ",
        "colab_type": "text"
      },
      "source": [
        "# RNN 实现手写数字识别"
      ]
    },
    {
      "cell_type": "markdown",
      "metadata": {
        "id": "VT9zNdbNI7Wl",
        "colab_type": "text"
      },
      "source": [
        "## Improt package"
      ]
    },
    {
      "cell_type": "code",
      "metadata": {
        "id": "YJBbWXwXIw7f",
        "colab_type": "code",
        "colab": {}
      },
      "source": [
        "import torch\n",
        "import torchvision"
      ],
      "execution_count": 0,
      "outputs": []
    },
    {
      "cell_type": "markdown",
      "metadata": {
        "id": "5K0irGwcJdy_",
        "colab_type": "text"
      },
      "source": [
        "## Download train data"
      ]
    },
    {
      "cell_type": "code",
      "metadata": {
        "id": "vNkxiIm5Jihw",
        "colab_type": "code",
        "colab": {}
      },
      "source": [
        "train_data = torchvision.datasets.MNIST(\n",
        "    root='./mnist/',\n",
        "    train=True,\n",
        "    transform=torchvision.transforms.ToTensor(),\n",
        "    download=True\n",
        ")"
      ],
      "execution_count": 0,
      "outputs": []
    },
    {
      "cell_type": "markdown",
      "metadata": {
        "id": "pp7bWF_-KF5k",
        "colab_type": "text"
      },
      "source": [
        "## Create train data set"
      ]
    },
    {
      "cell_type": "code",
      "metadata": {
        "id": "irVtxlLBKLAp",
        "colab_type": "code",
        "colab": {}
      },
      "source": [
        "train_data_set = torch.utils.data.DataLoader(dataset=train_data, batch_size=50, shuffle=True)"
      ],
      "execution_count": 0,
      "outputs": []
    },
    {
      "cell_type": "markdown",
      "metadata": {
        "id": "8Ia19WHQKlZ2",
        "colab_type": "text"
      },
      "source": [
        "## Dwnload test data"
      ]
    },
    {
      "cell_type": "code",
      "metadata": {
        "id": "fmr8pKQ_KiBr",
        "colab_type": "code",
        "colab": {}
      },
      "source": [
        "test_data = torchvision.datasets.MNIST(\n",
        "    root='./mnist/',\n",
        "    train=False,\n",
        ")"
      ],
      "execution_count": 0,
      "outputs": []
    },
    {
      "cell_type": "markdown",
      "metadata": {
        "id": "un6r7OOpK24-",
        "colab_type": "text"
      },
      "source": [
        "## Create test data set"
      ]
    },
    {
      "cell_type": "code",
      "metadata": {
        "id": "gZ7Lm9EcK6C5",
        "colab_type": "code",
        "colab": {
          "base_uri": "https://localhost:8080/",
          "height": 105
        },
        "outputId": "bd638f73-7b1c-4126-e016-71b917eaf73a"
      },
      "source": [
        "test_x = torch.unsqueeze(test_data.test_data, dim=1).type(torch.FloatTensor)[:2000]/255.\n",
        "test_y = test_data.test_labels[:2000]"
      ],
      "execution_count": 5,
      "outputs": [
        {
          "output_type": "stream",
          "text": [
            "/usr/local/lib/python3.6/dist-packages/torchvision/datasets/mnist.py:60: UserWarning: test_data has been renamed data\n",
            "  warnings.warn(\"test_data has been renamed data\")\n",
            "/usr/local/lib/python3.6/dist-packages/torchvision/datasets/mnist.py:50: UserWarning: test_labels has been renamed targets\n",
            "  warnings.warn(\"test_labels has been renamed targets\")\n"
          ],
          "name": "stderr"
        }
      ]
    },
    {
      "cell_type": "markdown",
      "metadata": {
        "id": "UbHATVs6Luj0",
        "colab_type": "text"
      },
      "source": [
        "## Create RNN Model"
      ]
    },
    {
      "cell_type": "code",
      "metadata": {
        "id": "lukfOUX1LxO5",
        "colab_type": "code",
        "colab": {}
      },
      "source": [
        "class LpRnnModel(torch.nn.Module):\n",
        "    def __init__(self):\n",
        "        super(LpRnnModel, self).__init__()\n",
        "        self.rnn = torch.nn.LSTM(\n",
        "            input_size=28,\n",
        "            hidden_size=64,\n",
        "            num_layers=1,\n",
        "            batch_first=True,\n",
        "        )\n",
        "        self.out = torch.nn.Linear(64, 10)\n",
        "\n",
        "    def forward(self, input):\n",
        "        r_out, (h_n, h_c) = self.rnn(input, None)\n",
        "        out = self.out(r_out[:, -1, :])\n",
        "        return out"
      ],
      "execution_count": 0,
      "outputs": []
    },
    {
      "cell_type": "markdown",
      "metadata": {
        "id": "rS0yO-lTNCS3",
        "colab_type": "text"
      },
      "source": [
        "## Instantiation LpRnnModel"
      ]
    },
    {
      "cell_type": "code",
      "metadata": {
        "id": "3VuS7_SXNZOr",
        "colab_type": "code",
        "colab": {}
      },
      "source": [
        "model = LpRnnModel()"
      ],
      "execution_count": 0,
      "outputs": []
    },
    {
      "cell_type": "markdown",
      "metadata": {
        "id": "YPSP7EFlOqCP",
        "colab_type": "text"
      },
      "source": [
        "## show Model"
      ]
    },
    {
      "cell_type": "code",
      "metadata": {
        "id": "mUlu3K7yOsWA",
        "colab_type": "code",
        "colab": {
          "base_uri": "https://localhost:8080/",
          "height": 85
        },
        "outputId": "7b97a743-b8b5-4382-bb37-8b8422606a7b"
      },
      "source": [
        "print(model)"
      ],
      "execution_count": 8,
      "outputs": [
        {
          "output_type": "stream",
          "text": [
            "LpRnnModel(\n",
            "  (rnn): LSTM(28, 64, batch_first=True)\n",
            "  (out): Linear(in_features=64, out_features=10, bias=True)\n",
            ")\n"
          ],
          "name": "stdout"
        }
      ]
    },
    {
      "cell_type": "markdown",
      "metadata": {
        "id": "w2Sk8wsXPVCi",
        "colab_type": "text"
      },
      "source": [
        "## Create Optimizer"
      ]
    },
    {
      "cell_type": "code",
      "metadata": {
        "id": "tfO0FoS9PX5K",
        "colab_type": "code",
        "colab": {}
      },
      "source": [
        "optimizer = torch.optim.Adam(model.parameters(), lr=0.01)"
      ],
      "execution_count": 0,
      "outputs": []
    },
    {
      "cell_type": "markdown",
      "metadata": {
        "id": "tUKYC6_DPpVy",
        "colab_type": "text"
      },
      "source": [
        "## Create loss function"
      ]
    },
    {
      "cell_type": "code",
      "metadata": {
        "id": "lCY8xG9MPtaK",
        "colab_type": "code",
        "colab": {}
      },
      "source": [
        "loss_function = torch.nn.CrossEntropyLoss()"
      ],
      "execution_count": 0,
      "outputs": []
    },
    {
      "cell_type": "markdown",
      "metadata": {
        "id": "GXI-b2ZnOxjL",
        "colab_type": "text"
      },
      "source": [
        "## Train data"
      ]
    },
    {
      "cell_type": "code",
      "metadata": {
        "id": "wYk6D19COzXa",
        "colab_type": "code",
        "colab": {
          "base_uri": "https://localhost:8080/",
          "height": 833
        },
        "outputId": "113a559f-4412-4546-aa3a-99f25b00ee19"
      },
      "source": [
        "for epoch in range(4):\n",
        "    for step, (images, labels) in enumerate(train_data_set):\n",
        "        images = images.view(-1, 28, 28)\n",
        "        output = model(images)\n",
        "        loss = loss_function(output, labels)\n",
        "        optimizer.zero_grad()\n",
        "        loss.backward()\n",
        "        optimizer.step()\n",
        "        if step % 100 == 0:\n",
        "            print('step:', step)\n"
      ],
      "execution_count": 13,
      "outputs": [
        {
          "output_type": "stream",
          "text": [
            "step: 0\n",
            "step: 100\n",
            "step: 200\n",
            "step: 300\n",
            "step: 400\n",
            "step: 500\n",
            "step: 600\n",
            "step: 700\n",
            "step: 800\n",
            "step: 900\n",
            "step: 1000\n",
            "step: 1100\n",
            "step: 0\n",
            "step: 100\n",
            "step: 200\n",
            "step: 300\n",
            "step: 400\n",
            "step: 500\n",
            "step: 600\n",
            "step: 700\n",
            "step: 800\n",
            "step: 900\n",
            "step: 1000\n",
            "step: 1100\n",
            "step: 0\n",
            "step: 100\n",
            "step: 200\n",
            "step: 300\n",
            "step: 400\n",
            "step: 500\n",
            "step: 600\n",
            "step: 700\n",
            "step: 800\n",
            "step: 900\n",
            "step: 1000\n",
            "step: 1100\n",
            "step: 0\n",
            "step: 100\n",
            "step: 200\n",
            "step: 300\n",
            "step: 400\n",
            "step: 500\n",
            "step: 600\n",
            "step: 700\n",
            "step: 800\n",
            "step: 900\n",
            "step: 1000\n",
            "step: 1100\n"
          ],
          "name": "stdout"
        }
      ]
    },
    {
      "cell_type": "markdown",
      "metadata": {
        "id": "Enh1cRA2SH-d",
        "colab_type": "text"
      },
      "source": [
        "## test model"
      ]
    },
    {
      "cell_type": "code",
      "metadata": {
        "id": "BSUEO7PcSKQC",
        "colab_type": "code",
        "colab": {
          "base_uri": "https://localhost:8080/",
          "height": 1000
        },
        "outputId": "17e784b2-3408-4792-95ec-c38639b3af1d"
      },
      "source": [
        "output = model(test_x.view(-1, 28,28))\n",
        "print(output)\n",
        "pred = torch.max(output, 1)[1].data.numpy()\n",
        "print(pred)\n",
        "print(test_y)\n",
        "sumValue = 0.\n",
        "for index in range(2000):\n",
        "    if pred[index] == test_y[index]:\n",
        "        sumValue = sumValue + 1.0\n",
        "    else:\n",
        "        print(index, pred[index], test_y[index])\n",
        "\n",
        "accuracy = float(sumValue / float(len(test_y)))\n",
        "print('accuracy:', accuracy)"
      ],
      "execution_count": 20,
      "outputs": [
        {
          "output_type": "stream",
          "text": [
            "tensor([[-4.1714, -0.2464, -0.9364,  ...,  9.6694, -1.7851, -0.7958],\n",
            "        [-3.0445,  1.6241,  9.5984,  ...,  1.1316, -0.1400, -3.7524],\n",
            "        [-2.7030, 11.9562,  0.5728,  ..., -0.0198,  0.6804, -3.8697],\n",
            "        ...,\n",
            "        [-4.1268, -1.8262,  0.7363,  ...,  0.1944, -0.8013,  0.6800],\n",
            "        [-0.7457, -7.8021, -1.3889,  ..., -0.8667, -1.8408,  9.4213],\n",
            "        [-3.8454, -4.0696, -2.7068,  ..., -1.1696, -0.4562,  3.7685]],\n",
            "       grad_fn=<AddmmBackward>)\n",
            "[7 2 1 ... 3 9 5]\n",
            "tensor([7, 2, 1,  ..., 3, 9, 5])\n",
            "8 6 tensor(5)\n",
            "149 9 tensor(2)\n",
            "184 3 tensor(8)\n",
            "200 2 tensor(3)\n",
            "236 7 tensor(2)\n",
            "247 6 tensor(4)\n",
            "266 0 tensor(8)\n",
            "287 7 tensor(4)\n",
            "321 7 tensor(2)\n",
            "358 4 tensor(7)\n",
            "394 7 tensor(9)\n",
            "435 9 tensor(8)\n",
            "445 0 tensor(6)\n",
            "449 5 tensor(3)\n",
            "508 5 tensor(6)\n",
            "571 9 tensor(4)\n",
            "582 2 tensor(8)\n",
            "583 7 tensor(2)\n",
            "613 3 tensor(2)\n",
            "619 8 tensor(1)\n",
            "659 7 tensor(2)\n",
            "707 9 tensor(4)\n",
            "716 7 tensor(1)\n",
            "839 3 tensor(8)\n",
            "881 9 tensor(4)\n",
            "900 3 tensor(1)\n",
            "926 0 tensor(2)\n",
            "947 9 tensor(8)\n",
            "951 9 tensor(5)\n",
            "1014 5 tensor(6)\n",
            "1039 2 tensor(7)\n",
            "1050 3 tensor(2)\n",
            "1101 2 tensor(8)\n",
            "1114 2 tensor(3)\n",
            "1125 9 tensor(8)\n",
            "1131 6 tensor(5)\n",
            "1194 9 tensor(7)\n",
            "1224 6 tensor(2)\n",
            "1232 4 tensor(9)\n",
            "1242 9 tensor(4)\n",
            "1247 5 tensor(9)\n",
            "1260 1 tensor(7)\n",
            "1289 9 tensor(5)\n",
            "1299 3 tensor(5)\n",
            "1355 1 tensor(7)\n",
            "1500 3 tensor(7)\n",
            "1520 2 tensor(7)\n",
            "1549 6 tensor(4)\n",
            "1553 5 tensor(9)\n",
            "1601 2 tensor(3)\n",
            "1681 7 tensor(3)\n",
            "1717 0 tensor(8)\n",
            "1737 2 tensor(5)\n",
            "1749 3 tensor(2)\n",
            "1754 2 tensor(7)\n",
            "1808 6 tensor(0)\n",
            "1878 3 tensor(8)\n",
            "1900 2 tensor(1)\n",
            "1901 4 tensor(9)\n",
            "1909 8 tensor(1)\n",
            "1965 3 tensor(2)\n",
            "1981 4 tensor(6)\n",
            "accuracy: 0.969\n"
          ],
          "name": "stdout"
        }
      ]
    }
  ]
}