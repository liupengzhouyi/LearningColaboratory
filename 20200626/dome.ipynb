{
 "nbformat": 4,
 "nbformat_minor": 0,
 "metadata": {
  "kernelspec": {
   "display_name": "Python 3",
   "language": "python",
   "name": "python3"
  },
  "language_info": {
   "codemirror_mode": {
    "name": "ipython",
    "version": 2
   },
   "file_extension": ".py",
   "mimetype": "text/x-python",
   "name": "python",
   "nbconvert_exporter": "python",
   "pygments_lexer": "ipython2",
   "version": "2.7.6"
  },
  "pycharm": {
   "stem_cell": {
    "cell_type": "raw",
    "source": [],
    "metadata": {
     "collapsed": false
    }
   }
  },
  "colab": {
   "name": "dome.ipynb",
   "provenance": [],
   "include_colab_link": true
  }
 },
 "cells": [
  {
   "cell_type": "markdown",
   "metadata": {
    "id": "view-in-github",
    "colab_type": "text"
   },
   "source": [
    "<a href=\"https://colab.research.google.com/github/liupengzhouyi/LearningColaboratory/blob/master/dome.ipynb\" target=\"_parent\"><img src=\"https://colab.research.google.com/assets/colab-badge.svg\" alt=\"Open In Colab\"/></a>"
   ]
  },
  {
   "cell_type": "markdown",
   "metadata": {
    "collapsed": true,
    "pycharm": {
     "name": "#%% md\n"
    },
    "id": "jFo1UOGYKNZ-",
    "colab_type": "text"
   },
   "source": [
    "# 初始化"
   ]
  },
  {
   "cell_type": "code",
   "metadata": {
    "pycharm": {
     "name": "#%%\n",
     "is_executing": false
    },
    "id": "XyyVgxaAKNaC",
    "colab_type": "code",
    "colab": {
     "base_uri": "https://localhost:8080/",
     "height": 34
    },
    "outputId": "2686a75b-0de8-4e10-e783-24de80dfcb87"
   },
   "source": [
    "print('Hello World!')"
   ],
   "execution_count": 1,
   "outputs": [
    {
     "output_type": "stream",
     "text": [
      "Hello World!\n"
     ],
     "name": "stdout"
    }
   ]
  },
  {
   "cell_type": "markdown",
   "metadata": {
    "id": "zxjLkM6WKbjX",
    "colab_type": "text"
   },
   "source": [
    "## 引用Torch模块\n"
   ]
  },
  {
   "cell_type": "code",
   "metadata": {
    "id": "LWQfuyBFKhlo",
    "colab_type": "code",
    "colab": {}
   },
   "source": [
    "import torch"
   ],
   "execution_count": 0,
   "outputs": []
  },
  {
   "cell_type": "markdown",
   "metadata": {
    "id": "io500A5GLP7T",
    "colab_type": "text"
   },
   "source": [
    "## 查看torch版本"
   ]
  },
  {
   "cell_type": "code",
   "metadata": {
    "id": "lXWMYTWtLWA8",
    "colab_type": "code",
    "colab": {
     "base_uri": "https://localhost:8080/",
     "height": 34
    },
    "outputId": "2e9af477-d38c-4291-9614-60f86a036d5c"
   },
   "source": [
    "print(torch.__version__)"
   ],
   "execution_count": 3,
   "outputs": [
    {
     "output_type": "stream",
     "text": [
      "1.4.0\n"
     ],
     "name": "stdout"
    }
   ]
  }
 ]
}