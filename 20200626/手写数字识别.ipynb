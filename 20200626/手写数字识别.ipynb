{
 "nbformat": 4,
 "nbformat_minor": 0,
 "metadata": {
  "colab": {
   "name": "手写数字识别.ipynb",
   "provenance": [],
   "collapsed_sections": [],
   "toc_visible": true,
   "authorship_tag": "ABX9TyNq2gvDS03oRl6kzPUsYoVE",
   "include_colab_link": true
  },
  "kernelspec": {
   "name": "python3",
   "display_name": "Python 3"
  },
  "widgets": {
   "application/vnd.jupyter.widget-state+json": {
    "46b5c0a0aeb04e1e8c25e7dcfbed392e": {
     "model_module": "@jupyter-widgets/controls",
     "model_name": "HBoxModel",
     "state": {
      "_view_name": "HBoxView",
      "_dom_classes": [],
      "_model_name": "HBoxModel",
      "_view_module": "@jupyter-widgets/controls",
      "_model_module_version": "1.5.0",
      "_view_count": null,
      "_view_module_version": "1.5.0",
      "box_style": "",
      "layout": "IPY_MODEL_8eef8107f29041cdb70e2175d6cc2ae9",
      "_model_module": "@jupyter-widgets/controls",
      "children": [
       "IPY_MODEL_41514705bab44abea50e7b46e2b1fd0b",
       "IPY_MODEL_431e473e1aa64de5afeb640c20591336"
      ]
     }
    },
    "8eef8107f29041cdb70e2175d6cc2ae9": {
     "model_module": "@jupyter-widgets/base",
     "model_name": "LayoutModel",
     "state": {
      "_view_name": "LayoutView",
      "grid_template_rows": null,
      "right": null,
      "justify_content": null,
      "_view_module": "@jupyter-widgets/base",
      "overflow": null,
      "_model_module_version": "1.2.0",
      "_view_count": null,
      "flex_flow": null,
      "width": null,
      "min_width": null,
      "border": null,
      "align_items": null,
      "bottom": null,
      "_model_module": "@jupyter-widgets/base",
      "top": null,
      "grid_column": null,
      "overflow_y": null,
      "overflow_x": null,
      "grid_auto_flow": null,
      "grid_area": null,
      "grid_template_columns": null,
      "flex": null,
      "_model_name": "LayoutModel",
      "justify_items": null,
      "grid_row": null,
      "max_height": null,
      "align_content": null,
      "visibility": null,
      "align_self": null,
      "height": null,
      "min_height": null,
      "padding": null,
      "grid_auto_rows": null,
      "grid_gap": null,
      "max_width": null,
      "order": null,
      "_view_module_version": "1.2.0",
      "grid_template_areas": null,
      "object_position": null,
      "object_fit": null,
      "grid_auto_columns": null,
      "margin": null,
      "display": null,
      "left": null
     }
    },
    "41514705bab44abea50e7b46e2b1fd0b": {
     "model_module": "@jupyter-widgets/controls",
     "model_name": "IntProgressModel",
     "state": {
      "_view_name": "ProgressView",
      "style": "IPY_MODEL_dee942c232454004bdaeff86fa17ad8f",
      "_dom_classes": [],
      "description": "",
      "_model_name": "IntProgressModel",
      "bar_style": "success",
      "max": 1,
      "_view_module": "@jupyter-widgets/controls",
      "_model_module_version": "1.5.0",
      "value": 1,
      "_view_count": null,
      "_view_module_version": "1.5.0",
      "orientation": "horizontal",
      "min": 0,
      "description_tooltip": null,
      "_model_module": "@jupyter-widgets/controls",
      "layout": "IPY_MODEL_c294b7a311ef4f81946e96c39857b5b4"
     }
    },
    "431e473e1aa64de5afeb640c20591336": {
     "model_module": "@jupyter-widgets/controls",
     "model_name": "HTMLModel",
     "state": {
      "_view_name": "HTMLView",
      "style": "IPY_MODEL_579f13799ded47c1997828fc9817e8e6",
      "_dom_classes": [],
      "description": "",
      "_model_name": "HTMLModel",
      "placeholder": "​",
      "_view_module": "@jupyter-widgets/controls",
      "_model_module_version": "1.5.0",
      "value": "9920512it [00:02, 3522375.88it/s]",
      "_view_count": null,
      "_view_module_version": "1.5.0",
      "description_tooltip": null,
      "_model_module": "@jupyter-widgets/controls",
      "layout": "IPY_MODEL_421a8133698c48f5bc8affd23db30a24"
     }
    },
    "dee942c232454004bdaeff86fa17ad8f": {
     "model_module": "@jupyter-widgets/controls",
     "model_name": "ProgressStyleModel",
     "state": {
      "_view_name": "StyleView",
      "_model_name": "ProgressStyleModel",
      "description_width": "",
      "_view_module": "@jupyter-widgets/base",
      "_model_module_version": "1.5.0",
      "_view_count": null,
      "_view_module_version": "1.2.0",
      "bar_color": null,
      "_model_module": "@jupyter-widgets/controls"
     }
    },
    "c294b7a311ef4f81946e96c39857b5b4": {
     "model_module": "@jupyter-widgets/base",
     "model_name": "LayoutModel",
     "state": {
      "_view_name": "LayoutView",
      "grid_template_rows": null,
      "right": null,
      "justify_content": null,
      "_view_module": "@jupyter-widgets/base",
      "overflow": null,
      "_model_module_version": "1.2.0",
      "_view_count": null,
      "flex_flow": null,
      "width": null,
      "min_width": null,
      "border": null,
      "align_items": null,
      "bottom": null,
      "_model_module": "@jupyter-widgets/base",
      "top": null,
      "grid_column": null,
      "overflow_y": null,
      "overflow_x": null,
      "grid_auto_flow": null,
      "grid_area": null,
      "grid_template_columns": null,
      "flex": null,
      "_model_name": "LayoutModel",
      "justify_items": null,
      "grid_row": null,
      "max_height": null,
      "align_content": null,
      "visibility": null,
      "align_self": null,
      "height": null,
      "min_height": null,
      "padding": null,
      "grid_auto_rows": null,
      "grid_gap": null,
      "max_width": null,
      "order": null,
      "_view_module_version": "1.2.0",
      "grid_template_areas": null,
      "object_position": null,
      "object_fit": null,
      "grid_auto_columns": null,
      "margin": null,
      "display": null,
      "left": null
     }
    },
    "579f13799ded47c1997828fc9817e8e6": {
     "model_module": "@jupyter-widgets/controls",
     "model_name": "DescriptionStyleModel",
     "state": {
      "_view_name": "StyleView",
      "_model_name": "DescriptionStyleModel",
      "description_width": "",
      "_view_module": "@jupyter-widgets/base",
      "_model_module_version": "1.5.0",
      "_view_count": null,
      "_view_module_version": "1.2.0",
      "_model_module": "@jupyter-widgets/controls"
     }
    },
    "421a8133698c48f5bc8affd23db30a24": {
     "model_module": "@jupyter-widgets/base",
     "model_name": "LayoutModel",
     "state": {
      "_view_name": "LayoutView",
      "grid_template_rows": null,
      "right": null,
      "justify_content": null,
      "_view_module": "@jupyter-widgets/base",
      "overflow": null,
      "_model_module_version": "1.2.0",
      "_view_count": null,
      "flex_flow": null,
      "width": null,
      "min_width": null,
      "border": null,
      "align_items": null,
      "bottom": null,
      "_model_module": "@jupyter-widgets/base",
      "top": null,
      "grid_column": null,
      "overflow_y": null,
      "overflow_x": null,
      "grid_auto_flow": null,
      "grid_area": null,
      "grid_template_columns": null,
      "flex": null,
      "_model_name": "LayoutModel",
      "justify_items": null,
      "grid_row": null,
      "max_height": null,
      "align_content": null,
      "visibility": null,
      "align_self": null,
      "height": null,
      "min_height": null,
      "padding": null,
      "grid_auto_rows": null,
      "grid_gap": null,
      "max_width": null,
      "order": null,
      "_view_module_version": "1.2.0",
      "grid_template_areas": null,
      "object_position": null,
      "object_fit": null,
      "grid_auto_columns": null,
      "margin": null,
      "display": null,
      "left": null
     }
    },
    "05347299cb65448cbc4590ee11e29328": {
     "model_module": "@jupyter-widgets/controls",
     "model_name": "HBoxModel",
     "state": {
      "_view_name": "HBoxView",
      "_dom_classes": [],
      "_model_name": "HBoxModel",
      "_view_module": "@jupyter-widgets/controls",
      "_model_module_version": "1.5.0",
      "_view_count": null,
      "_view_module_version": "1.5.0",
      "box_style": "",
      "layout": "IPY_MODEL_9bfd239413774afe8117ee6b5afcc1a8",
      "_model_module": "@jupyter-widgets/controls",
      "children": [
       "IPY_MODEL_e5b7b4a2419443b28758ce7231481fe8",
       "IPY_MODEL_30df1b126c8e4271854c874c8a7a964f"
      ]
     }
    },
    "9bfd239413774afe8117ee6b5afcc1a8": {
     "model_module": "@jupyter-widgets/base",
     "model_name": "LayoutModel",
     "state": {
      "_view_name": "LayoutView",
      "grid_template_rows": null,
      "right": null,
      "justify_content": null,
      "_view_module": "@jupyter-widgets/base",
      "overflow": null,
      "_model_module_version": "1.2.0",
      "_view_count": null,
      "flex_flow": null,
      "width": null,
      "min_width": null,
      "border": null,
      "align_items": null,
      "bottom": null,
      "_model_module": "@jupyter-widgets/base",
      "top": null,
      "grid_column": null,
      "overflow_y": null,
      "overflow_x": null,
      "grid_auto_flow": null,
      "grid_area": null,
      "grid_template_columns": null,
      "flex": null,
      "_model_name": "LayoutModel",
      "justify_items": null,
      "grid_row": null,
      "max_height": null,
      "align_content": null,
      "visibility": null,
      "align_self": null,
      "height": null,
      "min_height": null,
      "padding": null,
      "grid_auto_rows": null,
      "grid_gap": null,
      "max_width": null,
      "order": null,
      "_view_module_version": "1.2.0",
      "grid_template_areas": null,
      "object_position": null,
      "object_fit": null,
      "grid_auto_columns": null,
      "margin": null,
      "display": null,
      "left": null
     }
    },
    "e5b7b4a2419443b28758ce7231481fe8": {
     "model_module": "@jupyter-widgets/controls",
     "model_name": "IntProgressModel",
     "state": {
      "_view_name": "ProgressView",
      "style": "IPY_MODEL_eeddc5a3ac694015a3e3522b2b2fbc4b",
      "_dom_classes": [],
      "description": "",
      "_model_name": "IntProgressModel",
      "bar_style": "success",
      "max": 1,
      "_view_module": "@jupyter-widgets/controls",
      "_model_module_version": "1.5.0",
      "value": 1,
      "_view_count": null,
      "_view_module_version": "1.5.0",
      "orientation": "horizontal",
      "min": 0,
      "description_tooltip": null,
      "_model_module": "@jupyter-widgets/controls",
      "layout": "IPY_MODEL_e7ddafb7118f4795b0672c110e4ee141"
     }
    },
    "30df1b126c8e4271854c874c8a7a964f": {
     "model_module": "@jupyter-widgets/controls",
     "model_name": "HTMLModel",
     "state": {
      "_view_name": "HTMLView",
      "style": "IPY_MODEL_95acac14ded340f5b286ad81b9ee4df1",
      "_dom_classes": [],
      "description": "",
      "_model_name": "HTMLModel",
      "placeholder": "​",
      "_view_module": "@jupyter-widgets/controls",
      "_model_module_version": "1.5.0",
      "value": "32768it [00:00, 48721.82it/s]",
      "_view_count": null,
      "_view_module_version": "1.5.0",
      "description_tooltip": null,
      "_model_module": "@jupyter-widgets/controls",
      "layout": "IPY_MODEL_051915fa79934d50b231dff7963f8a78"
     }
    },
    "eeddc5a3ac694015a3e3522b2b2fbc4b": {
     "model_module": "@jupyter-widgets/controls",
     "model_name": "ProgressStyleModel",
     "state": {
      "_view_name": "StyleView",
      "_model_name": "ProgressStyleModel",
      "description_width": "",
      "_view_module": "@jupyter-widgets/base",
      "_model_module_version": "1.5.0",
      "_view_count": null,
      "_view_module_version": "1.2.0",
      "bar_color": null,
      "_model_module": "@jupyter-widgets/controls"
     }
    },
    "e7ddafb7118f4795b0672c110e4ee141": {
     "model_module": "@jupyter-widgets/base",
     "model_name": "LayoutModel",
     "state": {
      "_view_name": "LayoutView",
      "grid_template_rows": null,
      "right": null,
      "justify_content": null,
      "_view_module": "@jupyter-widgets/base",
      "overflow": null,
      "_model_module_version": "1.2.0",
      "_view_count": null,
      "flex_flow": null,
      "width": null,
      "min_width": null,
      "border": null,
      "align_items": null,
      "bottom": null,
      "_model_module": "@jupyter-widgets/base",
      "top": null,
      "grid_column": null,
      "overflow_y": null,
      "overflow_x": null,
      "grid_auto_flow": null,
      "grid_area": null,
      "grid_template_columns": null,
      "flex": null,
      "_model_name": "LayoutModel",
      "justify_items": null,
      "grid_row": null,
      "max_height": null,
      "align_content": null,
      "visibility": null,
      "align_self": null,
      "height": null,
      "min_height": null,
      "padding": null,
      "grid_auto_rows": null,
      "grid_gap": null,
      "max_width": null,
      "order": null,
      "_view_module_version": "1.2.0",
      "grid_template_areas": null,
      "object_position": null,
      "object_fit": null,
      "grid_auto_columns": null,
      "margin": null,
      "display": null,
      "left": null
     }
    },
    "95acac14ded340f5b286ad81b9ee4df1": {
     "model_module": "@jupyter-widgets/controls",
     "model_name": "DescriptionStyleModel",
     "state": {
      "_view_name": "StyleView",
      "_model_name": "DescriptionStyleModel",
      "description_width": "",
      "_view_module": "@jupyter-widgets/base",
      "_model_module_version": "1.5.0",
      "_view_count": null,
      "_view_module_version": "1.2.0",
      "_model_module": "@jupyter-widgets/controls"
     }
    },
    "051915fa79934d50b231dff7963f8a78": {
     "model_module": "@jupyter-widgets/base",
     "model_name": "LayoutModel",
     "state": {
      "_view_name": "LayoutView",
      "grid_template_rows": null,
      "right": null,
      "justify_content": null,
      "_view_module": "@jupyter-widgets/base",
      "overflow": null,
      "_model_module_version": "1.2.0",
      "_view_count": null,
      "flex_flow": null,
      "width": null,
      "min_width": null,
      "border": null,
      "align_items": null,
      "bottom": null,
      "_model_module": "@jupyter-widgets/base",
      "top": null,
      "grid_column": null,
      "overflow_y": null,
      "overflow_x": null,
      "grid_auto_flow": null,
      "grid_area": null,
      "grid_template_columns": null,
      "flex": null,
      "_model_name": "LayoutModel",
      "justify_items": null,
      "grid_row": null,
      "max_height": null,
      "align_content": null,
      "visibility": null,
      "align_self": null,
      "height": null,
      "min_height": null,
      "padding": null,
      "grid_auto_rows": null,
      "grid_gap": null,
      "max_width": null,
      "order": null,
      "_view_module_version": "1.2.0",
      "grid_template_areas": null,
      "object_position": null,
      "object_fit": null,
      "grid_auto_columns": null,
      "margin": null,
      "display": null,
      "left": null
     }
    },
    "e96fec6083fd4210a48a2e18b346393b": {
     "model_module": "@jupyter-widgets/controls",
     "model_name": "HBoxModel",
     "state": {
      "_view_name": "HBoxView",
      "_dom_classes": [],
      "_model_name": "HBoxModel",
      "_view_module": "@jupyter-widgets/controls",
      "_model_module_version": "1.5.0",
      "_view_count": null,
      "_view_module_version": "1.5.0",
      "box_style": "",
      "layout": "IPY_MODEL_b015dc36e03e4156a28f71220c5759d4",
      "_model_module": "@jupyter-widgets/controls",
      "children": [
       "IPY_MODEL_d2451542519447058fa1d333d0efa923",
       "IPY_MODEL_9e6d42deb4704ffd9ba61e79ee2bb644"
      ]
     }
    },
    "b015dc36e03e4156a28f71220c5759d4": {
     "model_module": "@jupyter-widgets/base",
     "model_name": "LayoutModel",
     "state": {
      "_view_name": "LayoutView",
      "grid_template_rows": null,
      "right": null,
      "justify_content": null,
      "_view_module": "@jupyter-widgets/base",
      "overflow": null,
      "_model_module_version": "1.2.0",
      "_view_count": null,
      "flex_flow": null,
      "width": null,
      "min_width": null,
      "border": null,
      "align_items": null,
      "bottom": null,
      "_model_module": "@jupyter-widgets/base",
      "top": null,
      "grid_column": null,
      "overflow_y": null,
      "overflow_x": null,
      "grid_auto_flow": null,
      "grid_area": null,
      "grid_template_columns": null,
      "flex": null,
      "_model_name": "LayoutModel",
      "justify_items": null,
      "grid_row": null,
      "max_height": null,
      "align_content": null,
      "visibility": null,
      "align_self": null,
      "height": null,
      "min_height": null,
      "padding": null,
      "grid_auto_rows": null,
      "grid_gap": null,
      "max_width": null,
      "order": null,
      "_view_module_version": "1.2.0",
      "grid_template_areas": null,
      "object_position": null,
      "object_fit": null,
      "grid_auto_columns": null,
      "margin": null,
      "display": null,
      "left": null
     }
    },
    "d2451542519447058fa1d333d0efa923": {
     "model_module": "@jupyter-widgets/controls",
     "model_name": "IntProgressModel",
     "state": {
      "_view_name": "ProgressView",
      "style": "IPY_MODEL_cdac62748dcb4f44820d259331e2fd0e",
      "_dom_classes": [],
      "description": "",
      "_model_name": "IntProgressModel",
      "bar_style": "success",
      "max": 1,
      "_view_module": "@jupyter-widgets/controls",
      "_model_module_version": "1.5.0",
      "value": 1,
      "_view_count": null,
      "_view_module_version": "1.5.0",
      "orientation": "horizontal",
      "min": 0,
      "description_tooltip": null,
      "_model_module": "@jupyter-widgets/controls",
      "layout": "IPY_MODEL_cbf8cf77af564d30afe153222aec4fb1"
     }
    },
    "9e6d42deb4704ffd9ba61e79ee2bb644": {
     "model_module": "@jupyter-widgets/controls",
     "model_name": "HTMLModel",
     "state": {
      "_view_name": "HTMLView",
      "style": "IPY_MODEL_15a76e136e3d4be0b6af8d1f97e657ba",
      "_dom_classes": [],
      "description": "",
      "_model_name": "HTMLModel",
      "placeholder": "​",
      "_view_module": "@jupyter-widgets/controls",
      "_model_module_version": "1.5.0",
      "value": "1654784it [00:01, 971799.54it/s]",
      "_view_count": null,
      "_view_module_version": "1.5.0",
      "description_tooltip": null,
      "_model_module": "@jupyter-widgets/controls",
      "layout": "IPY_MODEL_8084cd793af840daaa673d670912c23f"
     }
    },
    "cdac62748dcb4f44820d259331e2fd0e": {
     "model_module": "@jupyter-widgets/controls",
     "model_name": "ProgressStyleModel",
     "state": {
      "_view_name": "StyleView",
      "_model_name": "ProgressStyleModel",
      "description_width": "",
      "_view_module": "@jupyter-widgets/base",
      "_model_module_version": "1.5.0",
      "_view_count": null,
      "_view_module_version": "1.2.0",
      "bar_color": null,
      "_model_module": "@jupyter-widgets/controls"
     }
    },
    "cbf8cf77af564d30afe153222aec4fb1": {
     "model_module": "@jupyter-widgets/base",
     "model_name": "LayoutModel",
     "state": {
      "_view_name": "LayoutView",
      "grid_template_rows": null,
      "right": null,
      "justify_content": null,
      "_view_module": "@jupyter-widgets/base",
      "overflow": null,
      "_model_module_version": "1.2.0",
      "_view_count": null,
      "flex_flow": null,
      "width": null,
      "min_width": null,
      "border": null,
      "align_items": null,
      "bottom": null,
      "_model_module": "@jupyter-widgets/base",
      "top": null,
      "grid_column": null,
      "overflow_y": null,
      "overflow_x": null,
      "grid_auto_flow": null,
      "grid_area": null,
      "grid_template_columns": null,
      "flex": null,
      "_model_name": "LayoutModel",
      "justify_items": null,
      "grid_row": null,
      "max_height": null,
      "align_content": null,
      "visibility": null,
      "align_self": null,
      "height": null,
      "min_height": null,
      "padding": null,
      "grid_auto_rows": null,
      "grid_gap": null,
      "max_width": null,
      "order": null,
      "_view_module_version": "1.2.0",
      "grid_template_areas": null,
      "object_position": null,
      "object_fit": null,
      "grid_auto_columns": null,
      "margin": null,
      "display": null,
      "left": null
     }
    },
    "15a76e136e3d4be0b6af8d1f97e657ba": {
     "model_module": "@jupyter-widgets/controls",
     "model_name": "DescriptionStyleModel",
     "state": {
      "_view_name": "StyleView",
      "_model_name": "DescriptionStyleModel",
      "description_width": "",
      "_view_module": "@jupyter-widgets/base",
      "_model_module_version": "1.5.0",
      "_view_count": null,
      "_view_module_version": "1.2.0",
      "_model_module": "@jupyter-widgets/controls"
     }
    },
    "8084cd793af840daaa673d670912c23f": {
     "model_module": "@jupyter-widgets/base",
     "model_name": "LayoutModel",
     "state": {
      "_view_name": "LayoutView",
      "grid_template_rows": null,
      "right": null,
      "justify_content": null,
      "_view_module": "@jupyter-widgets/base",
      "overflow": null,
      "_model_module_version": "1.2.0",
      "_view_count": null,
      "flex_flow": null,
      "width": null,
      "min_width": null,
      "border": null,
      "align_items": null,
      "bottom": null,
      "_model_module": "@jupyter-widgets/base",
      "top": null,
      "grid_column": null,
      "overflow_y": null,
      "overflow_x": null,
      "grid_auto_flow": null,
      "grid_area": null,
      "grid_template_columns": null,
      "flex": null,
      "_model_name": "LayoutModel",
      "justify_items": null,
      "grid_row": null,
      "max_height": null,
      "align_content": null,
      "visibility": null,
      "align_self": null,
      "height": null,
      "min_height": null,
      "padding": null,
      "grid_auto_rows": null,
      "grid_gap": null,
      "max_width": null,
      "order": null,
      "_view_module_version": "1.2.0",
      "grid_template_areas": null,
      "object_position": null,
      "object_fit": null,
      "grid_auto_columns": null,
      "margin": null,
      "display": null,
      "left": null
     }
    },
    "0bea91cbd1f8436d83a67c66a2716dd0": {
     "model_module": "@jupyter-widgets/controls",
     "model_name": "HBoxModel",
     "state": {
      "_view_name": "HBoxView",
      "_dom_classes": [],
      "_model_name": "HBoxModel",
      "_view_module": "@jupyter-widgets/controls",
      "_model_module_version": "1.5.0",
      "_view_count": null,
      "_view_module_version": "1.5.0",
      "box_style": "",
      "layout": "IPY_MODEL_813c7e3b0ad34af9a0a8678cc8a7ea60",
      "_model_module": "@jupyter-widgets/controls",
      "children": [
       "IPY_MODEL_1d067f0906d1414eadf11f1b75f2df91",
       "IPY_MODEL_2f1bc07ed4094c56b3ce888a5bd0fde5"
      ]
     }
    },
    "813c7e3b0ad34af9a0a8678cc8a7ea60": {
     "model_module": "@jupyter-widgets/base",
     "model_name": "LayoutModel",
     "state": {
      "_view_name": "LayoutView",
      "grid_template_rows": null,
      "right": null,
      "justify_content": null,
      "_view_module": "@jupyter-widgets/base",
      "overflow": null,
      "_model_module_version": "1.2.0",
      "_view_count": null,
      "flex_flow": null,
      "width": null,
      "min_width": null,
      "border": null,
      "align_items": null,
      "bottom": null,
      "_model_module": "@jupyter-widgets/base",
      "top": null,
      "grid_column": null,
      "overflow_y": null,
      "overflow_x": null,
      "grid_auto_flow": null,
      "grid_area": null,
      "grid_template_columns": null,
      "flex": null,
      "_model_name": "LayoutModel",
      "justify_items": null,
      "grid_row": null,
      "max_height": null,
      "align_content": null,
      "visibility": null,
      "align_self": null,
      "height": null,
      "min_height": null,
      "padding": null,
      "grid_auto_rows": null,
      "grid_gap": null,
      "max_width": null,
      "order": null,
      "_view_module_version": "1.2.0",
      "grid_template_areas": null,
      "object_position": null,
      "object_fit": null,
      "grid_auto_columns": null,
      "margin": null,
      "display": null,
      "left": null
     }
    },
    "1d067f0906d1414eadf11f1b75f2df91": {
     "model_module": "@jupyter-widgets/controls",
     "model_name": "IntProgressModel",
     "state": {
      "_view_name": "ProgressView",
      "style": "IPY_MODEL_e91b7490bbf545d3be598cb4ab0658f8",
      "_dom_classes": [],
      "description": "",
      "_model_name": "IntProgressModel",
      "bar_style": "success",
      "max": 1,
      "_view_module": "@jupyter-widgets/controls",
      "_model_module_version": "1.5.0",
      "value": 1,
      "_view_count": null,
      "_view_module_version": "1.5.0",
      "orientation": "horizontal",
      "min": 0,
      "description_tooltip": null,
      "_model_module": "@jupyter-widgets/controls",
      "layout": "IPY_MODEL_adf877ce3be1405e9a5c9de47af0b66e"
     }
    },
    "2f1bc07ed4094c56b3ce888a5bd0fde5": {
     "model_module": "@jupyter-widgets/controls",
     "model_name": "HTMLModel",
     "state": {
      "_view_name": "HTMLView",
      "style": "IPY_MODEL_4cb48a007eff49bb9fefd876d43fca56",
      "_dom_classes": [],
      "description": "",
      "_model_name": "HTMLModel",
      "placeholder": "​",
      "_view_module": "@jupyter-widgets/controls",
      "_model_module_version": "1.5.0",
      "value": "8192it [00:00, 16610.78it/s]",
      "_view_count": null,
      "_view_module_version": "1.5.0",
      "description_tooltip": null,
      "_model_module": "@jupyter-widgets/controls",
      "layout": "IPY_MODEL_6a2302447c0c4ff9bae687c634530de6"
     }
    },
    "e91b7490bbf545d3be598cb4ab0658f8": {
     "model_module": "@jupyter-widgets/controls",
     "model_name": "ProgressStyleModel",
     "state": {
      "_view_name": "StyleView",
      "_model_name": "ProgressStyleModel",
      "description_width": "",
      "_view_module": "@jupyter-widgets/base",
      "_model_module_version": "1.5.0",
      "_view_count": null,
      "_view_module_version": "1.2.0",
      "bar_color": null,
      "_model_module": "@jupyter-widgets/controls"
     }
    },
    "adf877ce3be1405e9a5c9de47af0b66e": {
     "model_module": "@jupyter-widgets/base",
     "model_name": "LayoutModel",
     "state": {
      "_view_name": "LayoutView",
      "grid_template_rows": null,
      "right": null,
      "justify_content": null,
      "_view_module": "@jupyter-widgets/base",
      "overflow": null,
      "_model_module_version": "1.2.0",
      "_view_count": null,
      "flex_flow": null,
      "width": null,
      "min_width": null,
      "border": null,
      "align_items": null,
      "bottom": null,
      "_model_module": "@jupyter-widgets/base",
      "top": null,
      "grid_column": null,
      "overflow_y": null,
      "overflow_x": null,
      "grid_auto_flow": null,
      "grid_area": null,
      "grid_template_columns": null,
      "flex": null,
      "_model_name": "LayoutModel",
      "justify_items": null,
      "grid_row": null,
      "max_height": null,
      "align_content": null,
      "visibility": null,
      "align_self": null,
      "height": null,
      "min_height": null,
      "padding": null,
      "grid_auto_rows": null,
      "grid_gap": null,
      "max_width": null,
      "order": null,
      "_view_module_version": "1.2.0",
      "grid_template_areas": null,
      "object_position": null,
      "object_fit": null,
      "grid_auto_columns": null,
      "margin": null,
      "display": null,
      "left": null
     }
    },
    "4cb48a007eff49bb9fefd876d43fca56": {
     "model_module": "@jupyter-widgets/controls",
     "model_name": "DescriptionStyleModel",
     "state": {
      "_view_name": "StyleView",
      "_model_name": "DescriptionStyleModel",
      "description_width": "",
      "_view_module": "@jupyter-widgets/base",
      "_model_module_version": "1.5.0",
      "_view_count": null,
      "_view_module_version": "1.2.0",
      "_model_module": "@jupyter-widgets/controls"
     }
    },
    "6a2302447c0c4ff9bae687c634530de6": {
     "model_module": "@jupyter-widgets/base",
     "model_name": "LayoutModel",
     "state": {
      "_view_name": "LayoutView",
      "grid_template_rows": null,
      "right": null,
      "justify_content": null,
      "_view_module": "@jupyter-widgets/base",
      "overflow": null,
      "_model_module_version": "1.2.0",
      "_view_count": null,
      "flex_flow": null,
      "width": null,
      "min_width": null,
      "border": null,
      "align_items": null,
      "bottom": null,
      "_model_module": "@jupyter-widgets/base",
      "top": null,
      "grid_column": null,
      "overflow_y": null,
      "overflow_x": null,
      "grid_auto_flow": null,
      "grid_area": null,
      "grid_template_columns": null,
      "flex": null,
      "_model_name": "LayoutModel",
      "justify_items": null,
      "grid_row": null,
      "max_height": null,
      "align_content": null,
      "visibility": null,
      "align_self": null,
      "height": null,
      "min_height": null,
      "padding": null,
      "grid_auto_rows": null,
      "grid_gap": null,
      "max_width": null,
      "order": null,
      "_view_module_version": "1.2.0",
      "grid_template_areas": null,
      "object_position": null,
      "object_fit": null,
      "grid_auto_columns": null,
      "margin": null,
      "display": null,
      "left": null
     }
    }
   }
  }
 },
 "cells": [
  {
   "cell_type": "markdown",
   "metadata": {
    "id": "view-in-github",
    "colab_type": "text"
   },
   "source": [
    "<a href=\"https://colab.research.google.com/github/liupengzhouyi/LearningColaboratory/blob/master/%E6%89%8B%E5%86%99%E6%95%B0%E5%AD%97%E8%AF%86%E5%88%AB.ipynb\" target=\"_parent\"><img src=\"https://colab.research.google.com/assets/colab-badge.svg\" alt=\"Open In Colab\"/></a>"
   ]
  },
  {
   "cell_type": "markdown",
   "metadata": {
    "id": "vWW6Uf7IjJ1E",
    "colab_type": "text"
   },
   "source": [
    "# 手写数字识别"
   ]
  },
  {
   "cell_type": "markdown",
   "metadata": {
    "id": "Yb_HNEizjcsK",
    "colab_type": "text"
   },
   "source": [
    "## 导入模块"
   ]
  },
  {
   "cell_type": "code",
   "metadata": {
    "id": "nTKpDPsbTuUq",
    "colab_type": "code",
    "colab": {}
   },
   "source": [
    "import torch\n",
    "import torchvision"
   ],
   "execution_count": 0,
   "outputs": []
  },
  {
   "cell_type": "markdown",
   "metadata": {
    "id": "UUvHp2WGjj--",
    "colab_type": "text"
   },
   "source": [
    "## 查看版本"
   ]
  },
  {
   "cell_type": "code",
   "metadata": {
    "id": "lczKaPXUjl53",
    "colab_type": "code",
    "outputId": "8f4696c3-b00d-44be-fd6b-600e84edd2c1",
    "colab": {
     "base_uri": "https://localhost:8080/",
     "height": 51
    }
   },
   "source": [
    "print('torch.version:', torch.__version__)\n",
    "print('torchvision.version:', torchvision.__version__)"
   ],
   "execution_count": 2,
   "outputs": [
    {
     "output_type": "stream",
     "text": [
      "torch.version: 1.4.0\n",
      "torchvision.version: 0.5.0\n"
     ],
     "name": "stdout"
    }
   ]
  },
  {
   "cell_type": "markdown",
   "metadata": {
    "id": "7rddFn7mj6Tz",
    "colab_type": "text"
   },
   "source": [
    "## 下载训练数据"
   ]
  },
  {
   "cell_type": "code",
   "metadata": {
    "id": "IZyu0byQj8hH",
    "colab_type": "code",
    "colab": {
     "base_uri": "https://localhost:8080/",
     "height": 383,
     "referenced_widgets": [
      "46b5c0a0aeb04e1e8c25e7dcfbed392e",
      "8eef8107f29041cdb70e2175d6cc2ae9",
      "41514705bab44abea50e7b46e2b1fd0b",
      "431e473e1aa64de5afeb640c20591336",
      "dee942c232454004bdaeff86fa17ad8f",
      "c294b7a311ef4f81946e96c39857b5b4",
      "579f13799ded47c1997828fc9817e8e6",
      "421a8133698c48f5bc8affd23db30a24",
      "05347299cb65448cbc4590ee11e29328",
      "9bfd239413774afe8117ee6b5afcc1a8",
      "e5b7b4a2419443b28758ce7231481fe8",
      "30df1b126c8e4271854c874c8a7a964f",
      "eeddc5a3ac694015a3e3522b2b2fbc4b",
      "e7ddafb7118f4795b0672c110e4ee141",
      "95acac14ded340f5b286ad81b9ee4df1",
      "051915fa79934d50b231dff7963f8a78",
      "e96fec6083fd4210a48a2e18b346393b",
      "b015dc36e03e4156a28f71220c5759d4",
      "d2451542519447058fa1d333d0efa923",
      "9e6d42deb4704ffd9ba61e79ee2bb644",
      "cdac62748dcb4f44820d259331e2fd0e",
      "cbf8cf77af564d30afe153222aec4fb1",
      "15a76e136e3d4be0b6af8d1f97e657ba",
      "8084cd793af840daaa673d670912c23f",
      "0bea91cbd1f8436d83a67c66a2716dd0",
      "813c7e3b0ad34af9a0a8678cc8a7ea60",
      "1d067f0906d1414eadf11f1b75f2df91",
      "2f1bc07ed4094c56b3ce888a5bd0fde5",
      "e91b7490bbf545d3be598cb4ab0658f8",
      "adf877ce3be1405e9a5c9de47af0b66e",
      "4cb48a007eff49bb9fefd876d43fca56",
      "6a2302447c0c4ff9bae687c634530de6"
     ]
    },
    "outputId": "71c49c16-f261-4197-fcc1-dfdfdd806239"
   },
   "source": [
    "train_data = torchvision.datasets.MNIST(\n",
    "    root='./mnist/',\n",
    "    train=True,\n",
    "    transform=torchvision.transforms.ToTensor(),\n",
    "    download=True,\n",
    ")"
   ],
   "execution_count": 5,
   "outputs": [
    {
     "output_type": "stream",
     "text": [
      "Downloading http://yann.lecun.com/exdb/mnist/train-images-idx3-ubyte.gz to ./mnist/MNIST/raw/train-images-idx3-ubyte.gz\n"
     ],
     "name": "stdout"
    },
    {
     "output_type": "display_data",
     "data": {
      "application/vnd.jupyter.widget-view+json": {
       "model_id": "46b5c0a0aeb04e1e8c25e7dcfbed392e",
       "version_minor": 0,
       "version_major": 2
      },
      "text/plain": [
       "HBox(children=(IntProgress(value=1, bar_style='info', max=1), HTML(value='')))"
      ]
     },
     "metadata": {
      "tags": []
     }
    },
    {
     "output_type": "stream",
     "text": [
      "\n",
      "Extracting ./mnist/MNIST/raw/train-images-idx3-ubyte.gz to ./mnist/MNIST/raw\n",
      "Downloading http://yann.lecun.com/exdb/mnist/train-labels-idx1-ubyte.gz to ./mnist/MNIST/raw/train-labels-idx1-ubyte.gz\n"
     ],
     "name": "stdout"
    },
    {
     "output_type": "display_data",
     "data": {
      "application/vnd.jupyter.widget-view+json": {
       "model_id": "05347299cb65448cbc4590ee11e29328",
       "version_minor": 0,
       "version_major": 2
      },
      "text/plain": [
       "HBox(children=(IntProgress(value=1, bar_style='info', max=1), HTML(value='')))"
      ]
     },
     "metadata": {
      "tags": []
     }
    },
    {
     "output_type": "stream",
     "text": [
      "\n",
      "Extracting ./mnist/MNIST/raw/train-labels-idx1-ubyte.gz to ./mnist/MNIST/raw\n",
      "Downloading http://yann.lecun.com/exdb/mnist/t10k-images-idx3-ubyte.gz to ./mnist/MNIST/raw/t10k-images-idx3-ubyte.gz\n"
     ],
     "name": "stdout"
    },
    {
     "output_type": "display_data",
     "data": {
      "application/vnd.jupyter.widget-view+json": {
       "model_id": "e96fec6083fd4210a48a2e18b346393b",
       "version_minor": 0,
       "version_major": 2
      },
      "text/plain": [
       "HBox(children=(IntProgress(value=1, bar_style='info', max=1), HTML(value='')))"
      ]
     },
     "metadata": {
      "tags": []
     }
    },
    {
     "output_type": "stream",
     "text": [
      "\n",
      "Extracting ./mnist/MNIST/raw/t10k-images-idx3-ubyte.gz to ./mnist/MNIST/raw\n",
      "Downloading http://yann.lecun.com/exdb/mnist/t10k-labels-idx1-ubyte.gz to ./mnist/MNIST/raw/t10k-labels-idx1-ubyte.gz\n"
     ],
     "name": "stdout"
    },
    {
     "output_type": "display_data",
     "data": {
      "application/vnd.jupyter.widget-view+json": {
       "model_id": "0bea91cbd1f8436d83a67c66a2716dd0",
       "version_minor": 0,
       "version_major": 2
      },
      "text/plain": [
       "HBox(children=(IntProgress(value=1, bar_style='info', max=1), HTML(value='')))"
      ]
     },
     "metadata": {
      "tags": []
     }
    },
    {
     "output_type": "stream",
     "text": [
      "\n",
      "Extracting ./mnist/MNIST/raw/t10k-labels-idx1-ubyte.gz to ./mnist/MNIST/raw\n",
      "Processing...\n",
      "Done!\n"
     ],
     "name": "stdout"
    }
   ]
  },
  {
   "cell_type": "markdown",
   "metadata": {
    "id": "0bpWx4TBsCU4",
    "colab_type": "text"
   },
   "source": [
    "### 处理训练数据\n",
    "\n",
    "> (50 * 1 * 28 *28)"
   ]
  },
  {
   "cell_type": "code",
   "metadata": {
    "id": "aKqqJe2Br-Fp",
    "colab_type": "code",
    "colab": {}
   },
   "source": [
    "trainDateSet = torch.utils.data.DataLoader(dataset=train_data, batch_size=50, shuffle=True)"
   ],
   "execution_count": 0,
   "outputs": []
  },
  {
   "cell_type": "markdown",
   "metadata": {
    "id": "j_3ieelVtmhF",
    "colab_type": "text"
   },
   "source": [
    "## 下载测试数据"
   ]
  },
  {
   "cell_type": "code",
   "metadata": {
    "id": "qin7tuyKtpH3",
    "colab_type": "code",
    "colab": {}
   },
   "source": [
    "test_data = torchvision.datasets.MNIST(\n",
    "    root='./mnist/',\n",
    "    train=False\n",
    ")"
   ],
   "execution_count": 0,
   "outputs": []
  },
  {
   "cell_type": "markdown",
   "metadata": {
    "id": "hf9M1h33uSMx",
    "colab_type": "text"
   },
   "source": [
    "### 处理测试数据"
   ]
  },
  {
   "cell_type": "code",
   "metadata": {
    "id": "wpLcu__suZjT",
    "colab_type": "code",
    "colab": {
     "base_uri": "https://localhost:8080/",
     "height": 105
    },
    "outputId": "8dc8721c-29dc-4057-8bfa-8821d171a16d"
   },
   "source": [
    "test_x = torch.unsqueeze(input=test_data.test_data, dim=1).type(torch.FloatTensor)[:2000]/255.\n",
    "test_y = test_data.test_labels[:2000]"
   ],
   "execution_count": 8,
   "outputs": [
    {
     "output_type": "stream",
     "text": [
      "/usr/local/lib/python3.6/dist-packages/torchvision/datasets/mnist.py:60: UserWarning: test_data has been renamed data\n",
      "  warnings.warn(\"test_data has been renamed data\")\n",
      "/usr/local/lib/python3.6/dist-packages/torchvision/datasets/mnist.py:50: UserWarning: test_labels has been renamed targets\n",
      "  warnings.warn(\"test_labels has been renamed targets\")\n"
     ],
     "name": "stderr"
    }
   ]
  },
  {
   "cell_type": "markdown",
   "metadata": {
    "id": "Wo225na7kpe3",
    "colab_type": "text"
   },
   "source": [
    "## 建立CNN模型\n",
    "\n",
    "> 输入 (1  * 28 * 28)\n",
    "\n",
    ">   👇\n",
    "\n",
    "> conv-1: (16 * 28 * 28)\n",
    "\n",
    ">   👇\n",
    "\n",
    "> pool-1: (16 * 14 * 14)\n",
    "\n",
    ">   👇\n",
    "\n",
    "> oncv-2: (32 * 14 * 14)\n",
    "\n",
    ">   👇\n",
    "\n",
    "> pool-2: (32 * 7 * 7)\n",
    "\n",
    ">   👇\n",
    "\n",
    "> linear: (32 * 7 * 7)\n",
    "\n",
    ">   👇\n",
    "\n",
    "> output: (10)"
   ]
  },
  {
   "cell_type": "code",
   "metadata": {
    "id": "RUFz4bSTksiP",
    "colab_type": "code",
    "colab": {}
   },
   "source": [
    "class LpModel(torch.nn.Module):\n",
    "\n",
    "    def __init__(self):\n",
    "        super(LpModel, self).__init__()\n",
    "        self.conv1 = torch.nn.Sequential(\n",
    "            torch.nn.Conv2d(in_channels=1, out_channels=16, \n",
    "                            kernel_size=5, stride=1, padding=2,),\n",
    "            torch.nn.ReLU(),\n",
    "            torch.nn.MaxPool2d(kernel_size=2),\n",
    "        )\n",
    "        self.conv2 = torch.nn.Sequential(\n",
    "            torch.nn.Conv2d(in_channels=16, out_channels=32, \n",
    "                            kernel_size=5, stride=1, padding=2,),\n",
    "            torch.nn.ReLU(),\n",
    "            torch.nn.MaxPool2d(kernel_size=2),\n",
    "        )\n",
    "        self.out = torch.nn.Linear(32 * 7 * 7, 10)\n",
    "    \n",
    "    def forward(self, input):\n",
    "        input = self.conv1(input)\n",
    "        input = self.conv2(input)\n",
    "        input = input.view(input.size(0), -1)\n",
    "        output = self.out(input)\n",
    "        return output"
   ],
   "execution_count": 0,
   "outputs": []
  },
  {
   "cell_type": "markdown",
   "metadata": {
    "id": "J0sLeX7HoY0M",
    "colab_type": "text"
   },
   "source": [
    "## 实例化模型"
   ]
  },
  {
   "cell_type": "code",
   "metadata": {
    "id": "M2GAwBJyob8h",
    "colab_type": "code",
    "colab": {}
   },
   "source": [
    "model = LpModel()"
   ],
   "execution_count": 0,
   "outputs": []
  },
  {
   "cell_type": "markdown",
   "metadata": {
    "id": "UcYxCDjioQ5h",
    "colab_type": "text"
   },
   "source": [
    "## 输出模型的结构"
   ]
  },
  {
   "cell_type": "code",
   "metadata": {
    "id": "-4XtTaZ8oVLa",
    "colab_type": "code",
    "outputId": "0523a768-8756-4e8a-ea4f-1d56ba40c013",
    "colab": {
     "base_uri": "https://localhost:8080/",
     "height": 238
    }
   },
   "source": [
    "print(model)"
   ],
   "execution_count": 11,
   "outputs": [
    {
     "output_type": "stream",
     "text": [
      "LpModel(\n",
      "  (conv1): Sequential(\n",
      "    (0): Conv2d(1, 16, kernel_size=(5, 5), stride=(1, 1), padding=(2, 2))\n",
      "    (1): ReLU()\n",
      "    (2): MaxPool2d(kernel_size=2, stride=2, padding=0, dilation=1, ceil_mode=False)\n",
      "  )\n",
      "  (conv2): Sequential(\n",
      "    (0): Conv2d(16, 32, kernel_size=(5, 5), stride=(1, 1), padding=(2, 2))\n",
      "    (1): ReLU()\n",
      "    (2): MaxPool2d(kernel_size=2, stride=2, padding=0, dilation=1, ceil_mode=False)\n",
      "  )\n",
      "  (out): Linear(in_features=1568, out_features=10, bias=True)\n",
      ")\n"
     ],
     "name": "stdout"
    }
   ]
  },
  {
   "cell_type": "markdown",
   "metadata": {
    "id": "gyLsGD0-onEz",
    "colab_type": "text"
   },
   "source": [
    "## 创建优化器"
   ]
  },
  {
   "cell_type": "code",
   "metadata": {
    "id": "6Qq8kU-JoxFA",
    "colab_type": "code",
    "colab": {}
   },
   "source": [
    "optimizer = torch.optim.Adam(params=model.parameters(), lr=0.01)"
   ],
   "execution_count": 0,
   "outputs": []
  },
  {
   "cell_type": "markdown",
   "metadata": {
    "id": "gAKWLGcXqcFE",
    "colab_type": "text"
   },
   "source": [
    "## 创建损失函数"
   ]
  },
  {
   "cell_type": "code",
   "metadata": {
    "id": "--zo7eDuqfoG",
    "colab_type": "code",
    "colab": {}
   },
   "source": [
    "loss_func = torch.nn.CrossEntropyLoss()"
   ],
   "execution_count": 0,
   "outputs": []
  },
  {
   "cell_type": "markdown",
   "metadata": {
    "id": "ZSmGs1Tpq1K7",
    "colab_type": "text"
   },
   "source": [
    "## 训练"
   ]
  },
  {
   "cell_type": "code",
   "metadata": {
    "id": "ABWpPabUq25j",
    "colab_type": "code",
    "colab": {
     "base_uri": "https://localhost:8080/",
     "height": 425
    },
    "outputId": "4e064e7e-5abd-4221-d16e-be97277c7250"
   },
   "source": [
    "for epoch in range(2):\n",
    "    for step, (data, label) in enumerate(trainDateSet):\n",
    "        data = torch.autograd.Variable(data)\n",
    "        output = model(data)\n",
    "        loss = loss_func(output, label)\n",
    "        optimizer.zero_grad()\n",
    "        loss.backward()\n",
    "        optimizer.step()\n",
    "        if step % 100 == 0:\n",
    "            print('times:', step)"
   ],
   "execution_count": 14,
   "outputs": [
    {
     "output_type": "stream",
     "text": [
      "times: 0\n",
      "times: 100\n",
      "times: 200\n",
      "times: 300\n",
      "times: 400\n",
      "times: 500\n",
      "times: 600\n",
      "times: 700\n",
      "times: 800\n",
      "times: 900\n",
      "times: 1000\n",
      "times: 1100\n",
      "times: 0\n",
      "times: 100\n",
      "times: 200\n",
      "times: 300\n",
      "times: 400\n",
      "times: 500\n",
      "times: 600\n",
      "times: 700\n",
      "times: 800\n",
      "times: 900\n",
      "times: 1000\n",
      "times: 1100\n"
     ],
     "name": "stdout"
    }
   ]
  },
  {
   "cell_type": "markdown",
   "metadata": {
    "id": "N5mzDvl8vckF",
    "colab_type": "text"
   },
   "source": [
    "## 计算正确率\n",
    "\n",
    "$$ \\frac{rightNumber}{testNumber} $$"
   ]
  },
  {
   "cell_type": "markdown",
   "metadata": {
    "id": "ReASy5E6xE0X",
    "colab_type": "text"
   },
   "source": [
    "## 测试"
   ]
  },
  {
   "cell_type": "code",
   "metadata": {
    "id": "hBoYEIDEwzTR",
    "colab_type": "code",
    "colab": {
     "base_uri": "https://localhost:8080/",
     "height": 51
    },
    "outputId": "feeb475c-7b2b-4768-f6bc-76c4477734e5"
   },
   "source": [
    "test_output = model(test_x)"
   ],
   "execution_count": 25,
   "outputs": [
    {
     "output_type": "stream",
     "text": [
      "tensor([ -4.1110,  -8.3949,  -4.2038,   1.2952, -13.6527,  -7.3260, -27.1470,\n",
      "         12.1747,  -8.8163,   1.9086], grad_fn=<SelectBackward>)\n"
     ],
     "name": "stdout"
    }
   ]
  },
  {
   "cell_type": "markdown",
   "metadata": {
    "id": "QusxkG-e01lD",
    "colab_type": "text"
   },
   "source": [
    "## 获取测试结果"
   ]
  },
  {
   "cell_type": "code",
   "metadata": {
    "id": "-bs6ss5A043L",
    "colab_type": "code",
    "colab": {}
   },
   "source": [
    "prey_y = torch.max(test_output, 1)[1].data.numpy()"
   ],
   "execution_count": 0,
   "outputs": []
  },
  {
   "cell_type": "markdown",
   "metadata": {
    "id": "FqhYZArR061I",
    "colab_type": "text"
   },
   "source": [
    "## 统计测试结果"
   ]
  },
  {
   "cell_type": "code",
   "metadata": {
    "id": "VLm-VyprzytN",
    "colab_type": "code",
    "colab": {
     "base_uri": "https://localhost:8080/",
     "height": 51
    },
    "outputId": "b89b3bd4-b233-4d7d-f349-85a3cabebffd"
   },
   "source": [
    "rightNumber = float((prey_y == test_y.data.numpy()).astype(int).sum())\n",
    "print(rightNumber)\n",
    "testNumber = float(len(test_y))\n",
    "print(testNumber)"
   ],
   "execution_count": 27,
   "outputs": [
    {
     "output_type": "stream",
     "text": [
      "1947.0\n",
      "2000.0\n"
     ],
     "name": "stdout"
    }
   ]
  },
  {
   "cell_type": "markdown",
   "metadata": {
    "id": "ThspBv420-s0",
    "colab_type": "text"
   },
   "source": [
    "## 计算正确率"
   ]
  },
  {
   "cell_type": "code",
   "metadata": {
    "id": "qW37_tNB0Htz",
    "colab_type": "code",
    "colab": {
     "base_uri": "https://localhost:8080/",
     "height": 34
    },
    "outputId": "b786c3e0-0336-4db9-b29a-812edbd586c8"
   },
   "source": [
    "accuracy = rightNumber / testNumber\n",
    "print(accuracy)"
   ],
   "execution_count": 28,
   "outputs": [
    {
     "output_type": "stream",
     "text": [
      "0.9735\n"
     ],
     "name": "stdout"
    }
   ]
  },
  {
   "cell_type": "markdown",
   "metadata": {
    "id": "VIc8XEF01DE2",
    "colab_type": "text"
   },
   "source": [
    "## 查看出错点"
   ]
  },
  {
   "cell_type": "code",
   "metadata": {
    "id": "-GcZp2QN0Z5B",
    "colab_type": "code",
    "colab": {
     "base_uri": "https://localhost:8080/",
     "height": 918
    },
    "outputId": "ac659f2c-6bd7-4f90-afa3-220e82362ccf"
   },
   "source": [
    "for i in range(2000):\n",
    "    if (prey_y[i] != test_y[i]):\n",
    "        print(test_y[i], prey_y[i])"
   ],
   "execution_count": 29,
   "outputs": [
    {
     "output_type": "stream",
     "text": [
      "tensor(5) 6\n",
      "tensor(3) 5\n",
      "tensor(7) 9\n",
      "tensor(9) 4\n",
      "tensor(7) 2\n",
      "tensor(4) 6\n",
      "tensor(4) 9\n",
      "tensor(8) 5\n",
      "tensor(9) 8\n",
      "tensor(8) 0\n",
      "tensor(8) 2\n",
      "tensor(7) 3\n",
      "tensor(4) 6\n",
      "tensor(2) 3\n",
      "tensor(7) 2\n",
      "tensor(0) 5\n",
      "tensor(7) 5\n",
      "tensor(4) 9\n",
      "tensor(6) 5\n",
      "tensor(9) 8\n",
      "tensor(4) 3\n",
      "tensor(7) 3\n",
      "tensor(3) 5\n",
      "tensor(8) 9\n",
      "tensor(6) 0\n",
      "tensor(6) 5\n",
      "tensor(8) 1\n",
      "tensor(7) 3\n",
      "tensor(4) 6\n",
      "tensor(7) 9\n",
      "tensor(6) 8\n",
      "tensor(7) 2\n",
      "tensor(7) 2\n",
      "tensor(9) 5\n",
      "tensor(7) 1\n",
      "tensor(3) 5\n",
      "tensor(7) 2\n",
      "tensor(5) 6\n",
      "tensor(5) 3\n",
      "tensor(7) 3\n",
      "tensor(7) 9\n",
      "tensor(4) 6\n",
      "tensor(3) 7\n",
      "tensor(9) 5\n",
      "tensor(7) 1\n",
      "tensor(7) 9\n",
      "tensor(7) 2\n",
      "tensor(8) 3\n",
      "tensor(9) 8\n",
      "tensor(7) 2\n",
      "tensor(8) 2\n",
      "tensor(4) 9\n",
      "tensor(4) 1\n"
     ],
     "name": "stdout"
    }
   ]
  }
 ]
}