{
  "nbformat": 4,
  "nbformat_minor": 0,
  "metadata": {
    "colab": {
      "name": "手写数字识别.ipynb",
      "provenance": [],
      "collapsed_sections": [],
      "toc_visible": true,
      "authorship_tag": "ABX9TyOYhI5g/ar91yi4Fte0He7o",
      "include_colab_link": true
    },
    "kernelspec": {
      "name": "python3",
      "display_name": "Python 3"
    }
  },
  "cells": [
    {
      "cell_type": "markdown",
      "metadata": {
        "id": "view-in-github",
        "colab_type": "text"
      },
      "source": [
        "<a href=\"https://colab.research.google.com/github/liupengzhouyi/LearningColaboratory/blob/master/%E6%89%8B%E5%86%99%E6%95%B0%E5%AD%97%E8%AF%86%E5%88%AB.ipynb\" target=\"_parent\"><img src=\"https://colab.research.google.com/assets/colab-badge.svg\" alt=\"Open In Colab\"/></a>"
      ]
    },
    {
      "cell_type": "markdown",
      "metadata": {
        "id": "vWW6Uf7IjJ1E",
        "colab_type": "text"
      },
      "source": [
        "# 手写数字识别"
      ]
    },
    {
      "cell_type": "markdown",
      "metadata": {
        "id": "Yb_HNEizjcsK",
        "colab_type": "text"
      },
      "source": [
        "## 导入模块"
      ]
    },
    {
      "cell_type": "code",
      "metadata": {
        "id": "nTKpDPsbTuUq",
        "colab_type": "code",
        "colab": {}
      },
      "source": [
        "import torch\n",
        "import torchvision"
      ],
      "execution_count": 0,
      "outputs": []
    },
    {
      "cell_type": "markdown",
      "metadata": {
        "id": "UUvHp2WGjj--",
        "colab_type": "text"
      },
      "source": [
        "## 查看版本"
      ]
    },
    {
      "cell_type": "code",
      "metadata": {
        "id": "lczKaPXUjl53",
        "colab_type": "code",
        "outputId": "040fa54d-c701-4c67-b015-aff93de2b8d2",
        "colab": {
          "base_uri": "https://localhost:8080/",
          "height": 51
        }
      },
      "source": [
        "print('torch.version:', torch.__version__)\n",
        "print('torchvision.version:', torchvision.__version__)"
      ],
      "execution_count": 2,
      "outputs": [
        {
          "output_type": "stream",
          "text": [
            "torch.version: 1.4.0\n",
            "torchvision.version: 0.5.0\n"
          ],
          "name": "stdout"
        }
      ]
    },
    {
      "cell_type": "markdown",
      "metadata": {
        "id": "7rddFn7mj6Tz",
        "colab_type": "text"
      },
      "source": [
        "## 下载数据"
      ]
    },
    {
      "cell_type": "code",
      "metadata": {
        "id": "IZyu0byQj8hH",
        "colab_type": "code",
        "colab": {}
      },
      "source": [
        "train_data = torchvision.datasets.MNIST(\n",
        "    root='./mnist/',\n",
        "    train=True,\n",
        "    transform=torchvision.transforms.ToTensor(),\n",
        "    download=True,\n",
        ")"
      ],
      "execution_count": 0,
      "outputs": []
    },
    {
      "cell_type": "markdown",
      "metadata": {
        "id": "8XdyXjEWr-aU",
        "colab_type": "text"
      },
      "source": [
        "## 处理数据"
      ]
    },
    {
      "cell_type": "markdown",
      "metadata": {
        "id": "0bpWx4TBsCU4",
        "colab_type": "text"
      },
      "source": [
        "### 处理训练数据\n",
        "\n",
        "> (50 * 1 * 28 *28)"
      ]
    },
    {
      "cell_type": "code",
      "metadata": {
        "id": "aKqqJe2Br-Fp",
        "colab_type": "code",
        "colab": {}
      },
      "source": [
        "trainDateSet = torch.utils.data.DataLoader(dataset=train_data, batch_size=50, shuffle=True)"
      ],
      "execution_count": 0,
      "outputs": []
    },
    {
      "cell_type": "markdown",
      "metadata": {
        "id": "Wo225na7kpe3",
        "colab_type": "text"
      },
      "source": [
        "## 建立CNN模型\n",
        "\n",
        "> 输入 (1  * 28 * 28)\n",
        "\n",
        ">   👇\n",
        "\n",
        "> conv-1: (16 * 28 * 28)\n",
        "\n",
        ">   👇\n",
        "\n",
        "> pool-1: (16 * 14 * 14)\n",
        "\n",
        ">   👇\n",
        "\n",
        "> oncv-2: (32 * 14 * 14)\n",
        "\n",
        ">   👇\n",
        "\n",
        "> pool-2: (32 * 7 * 7)\n",
        "\n",
        ">   👇\n",
        "\n",
        "> linear: (32 * 7 * 7)\n",
        "\n",
        ">   👇\n",
        "\n",
        "> output: (10)"
      ]
    },
    {
      "cell_type": "code",
      "metadata": {
        "id": "RUFz4bSTksiP",
        "colab_type": "code",
        "colab": {}
      },
      "source": [
        "class LpModel(torch.nn.Module):\n",
        "\n",
        "    def __init__(self):\n",
        "        super(LpModel, self).__init__()\n",
        "        self.conv1 = torch.nn.Sequential(\n",
        "            torch.nn.Conv2d(in_channels=1, out_channels=16, \n",
        "                            kernel_size=5, stride=1, padding=2,),\n",
        "            torch.nn.ReLU(),\n",
        "            torch.nn.MaxPool2d(kernel_size=2),\n",
        "        )\n",
        "        self.conv2 = torch.nn.Sequential(\n",
        "            torch.nn.Conv2d(in_channels=16, out_channels=32, \n",
        "                            kernel_size=5, stride=1, padding=2,),\n",
        "            torch.nn.ReLU(),\n",
        "            torch.nn.MaxPool2d(kernel_size=2),\n",
        "        )\n",
        "        self.out = torch.nn.Linear(32 * 7 * 7, 10)\n",
        "    \n",
        "    def forward(self, input):\n",
        "        input = self.conv1(input)\n",
        "        input = self.conv2(input)\n",
        "        input = input.view(input.size(0), -1)\n",
        "        output = self.out(input)\n",
        "        return output"
      ],
      "execution_count": 0,
      "outputs": []
    },
    {
      "cell_type": "markdown",
      "metadata": {
        "id": "J0sLeX7HoY0M",
        "colab_type": "text"
      },
      "source": [
        "## 实例化模型"
      ]
    },
    {
      "cell_type": "code",
      "metadata": {
        "id": "M2GAwBJyob8h",
        "colab_type": "code",
        "colab": {}
      },
      "source": [
        "model = LpModel()"
      ],
      "execution_count": 0,
      "outputs": []
    },
    {
      "cell_type": "markdown",
      "metadata": {
        "id": "UcYxCDjioQ5h",
        "colab_type": "text"
      },
      "source": [
        "## 输出模型的结构"
      ]
    },
    {
      "cell_type": "code",
      "metadata": {
        "id": "-4XtTaZ8oVLa",
        "colab_type": "code",
        "outputId": "edb59b2f-ed69-438b-b6ac-28515dca32ab",
        "colab": {
          "base_uri": "https://localhost:8080/",
          "height": 238
        }
      },
      "source": [
        "print(model)"
      ],
      "execution_count": 7,
      "outputs": [
        {
          "output_type": "stream",
          "text": [
            "LpModel(\n",
            "  (conv1): Sequential(\n",
            "    (0): Conv2d(1, 16, kernel_size=(5, 5), stride=(1, 1), padding=(2, 2))\n",
            "    (1): ReLU()\n",
            "    (2): MaxPool2d(kernel_size=2, stride=2, padding=0, dilation=1, ceil_mode=False)\n",
            "  )\n",
            "  (conv2): Sequential(\n",
            "    (0): Conv2d(16, 32, kernel_size=(5, 5), stride=(1, 1), padding=(2, 2))\n",
            "    (1): ReLU()\n",
            "    (2): MaxPool2d(kernel_size=2, stride=2, padding=0, dilation=1, ceil_mode=False)\n",
            "  )\n",
            "  (out): Linear(in_features=1568, out_features=10, bias=True)\n",
            ")\n"
          ],
          "name": "stdout"
        }
      ]
    },
    {
      "cell_type": "markdown",
      "metadata": {
        "id": "gyLsGD0-onEz",
        "colab_type": "text"
      },
      "source": [
        "## 创建优化器"
      ]
    },
    {
      "cell_type": "code",
      "metadata": {
        "id": "6Qq8kU-JoxFA",
        "colab_type": "code",
        "colab": {}
      },
      "source": [
        "optimizer = torch.optim.Adam(params=model.parameters(), lr=0.01)"
      ],
      "execution_count": 0,
      "outputs": []
    },
    {
      "cell_type": "markdown",
      "metadata": {
        "id": "gAKWLGcXqcFE",
        "colab_type": "text"
      },
      "source": [
        "## 创建损失函数"
      ]
    },
    {
      "cell_type": "code",
      "metadata": {
        "id": "--zo7eDuqfoG",
        "colab_type": "code",
        "colab": {}
      },
      "source": [
        "loss_func = torch.nn.CrossEntropyLoss()"
      ],
      "execution_count": 0,
      "outputs": []
    },
    {
      "cell_type": "markdown",
      "metadata": {
        "id": "ZSmGs1Tpq1K7",
        "colab_type": "text"
      },
      "source": [
        "## 训练"
      ]
    },
    {
      "cell_type": "code",
      "metadata": {
        "id": "ABWpPabUq25j",
        "colab_type": "code",
        "colab": {
          "base_uri": "https://localhost:8080/",
          "height": 425
        },
        "outputId": "e084beb4-06e7-4ecd-9c48-c0fb1504ba47"
      },
      "source": [
        "for epoch in range(2):\n",
        "    for step, (data, label) in enumerate(trainDateSet):\n",
        "        data = torch.autograd.Variable(data)\n",
        "        output = model(data)\n",
        "        loss = loss_func(output, label)\n",
        "        optimizer.zero_grad()\n",
        "        loss.backward()\n",
        "        optimizer.step()\n",
        "        if step % 100 == 0:\n",
        "            print('times:', step)"
      ],
      "execution_count": 20,
      "outputs": [
        {
          "output_type": "stream",
          "text": [
            "times: 0\n",
            "times: 100\n",
            "times: 200\n",
            "times: 300\n",
            "times: 400\n",
            "times: 500\n",
            "times: 600\n",
            "times: 700\n",
            "times: 800\n",
            "times: 900\n",
            "times: 1000\n",
            "times: 1100\n",
            "times: 0\n",
            "times: 100\n",
            "times: 200\n",
            "times: 300\n",
            "times: 400\n",
            "times: 500\n",
            "times: 600\n",
            "times: 700\n",
            "times: 800\n",
            "times: 900\n",
            "times: 1000\n",
            "times: 1100\n"
          ],
          "name": "stdout"
        }
      ]
    }
  ]
}